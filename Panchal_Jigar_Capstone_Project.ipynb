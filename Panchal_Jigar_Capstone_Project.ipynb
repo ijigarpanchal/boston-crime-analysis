{
 "cells": [
  {
   "cell_type": "markdown",
   "metadata": {},
   "source": [
    "# Boston Crime Data Analysis"
   ]
  },
  {
   "cell_type": "markdown",
   "metadata": {},
   "source": [
    "## Introduction"
   ]
  },
  {
   "cell_type": "markdown",
   "metadata": {},
   "source": [
    "This is a dataset containing records from the new crime incident report system in Boston, It includes information about each incident recored in the Boston Crime department.\n",
    "Columns included in the dataset are: \n",
    "\n",
    "* INCIDENT_NUMBER: Incident number is a unique number provided to each incident which has been recorded by the Department\n",
    "* OFFENSE_CODE: Each crime as a offense code describing the type of crime\n",
    "* OFFENSE_CODE_GROUP: Each crime offense code has offense group code describing the type of crime\n",
    "* OFFENSE_DESCRIPTION: Description of the Crime recorded\n",
    "* DISTRICT: District where the crimes was recorded\n",
    "* REPORTING_AREA:Location where the crime was reported.\n",
    "* SHOOTING: Whether the crime recorded involved any gun violence, If Yes then 'Y' else Null. \n",
    "* OCCURRED_ON_DATE: Date of the Crime recorded\n",
    "* YEAR: Year in which the crime was recorded\n",
    "* MONTH: Month in which the crime was recorded\n",
    "* DAY_OF_WEEK: Day of the week in which the crime was recorded\n",
    "* HOUR: Hour at which the crime was recorded\n",
    "* UCR_PART: The Uniform Crime Reporting (UCR) program compiles official data on crime in the United States, published by the               Federal Bureau of Investigation (FBI). All crimes are assigned a UCR_PART like Part 1, 2, 3 and Other, depending               upon the crime. Part 1 being a crime where Arrest is complusary based on the crime. and Others being a Crime not               known. \n",
    "* STREET:  Street number of the Crime occurance\n",
    "* LATITUDE: Geographic co-ordinates of the crime location\n",
    "* LONGITUDE: Geographic co-ordinates of the crime location\n",
    "* LOCATION: Geographic co-ordinates of the crime location\n",
    "\n",
    "Link to dataset: https://data.boston.gov/dataset/6220d948-eae2-4e4b-8723-2dc8e67722a3/resource/12cb3883-56f5-47de-afa5-3b1cf61b257b/download/tmpnpw8nbpv.csv"
   ]
  },
  {
   "cell_type": "code",
   "execution_count": 1,
   "metadata": {},
   "outputs": [],
   "source": [
    "import pandas as pd\n",
    "import numpy as np\n",
    "import matplotlib.pyplot as plt\n",
    "import seaborn as sns\n",
    "import os\n",
    "import pylab\n",
    "from sklearn.model_selection import train_test_split\n",
    "from sklearn import metrics\n",
    "from sklearn.decomposition import PCA\n",
    "from sklearn.preprocessing import LabelEncoder\n",
    "from sklearn.ensemble import GradientBoostingClassifier as GBC\n",
    "from sklearn.metrics import classification_report\n",
    "from sklearn.metrics import accuracy_score\n",
    "\n",
    "import statsmodels.api as sm\n",
    "\n",
    "\n",
    "#graph inline\n",
    "%matplotlib inline"
   ]
  },
  {
   "cell_type": "code",
   "execution_count": 2,
   "metadata": {},
   "outputs": [],
   "source": [
    "#importing fucntions from Pycharm file\n",
    "from Panchal_Jigar_Capstone_Project_Code import eda_missing_nunique"
   ]
  },
  {
   "cell_type": "markdown",
   "metadata": {},
   "source": [
    "### Data Extraction"
   ]
  },
  {
   "cell_type": "code",
   "execution_count": 3,
   "metadata": {},
   "outputs": [],
   "source": [
    "#importing dataset\n",
    "df = pd.read_csv('https://data.boston.gov/dataset/6220d948-eae2-4e4b-8723-2dc8e67722a3/resource/12cb3883-56f5-47de-afa5-3b1cf61b257b/download/tmpnpw8nbpv.csv', encoding='latin-1')\n",
    "pd.set_option('display.max_columns', 500) #displaying all the coloumns while printing head"
   ]
  },
  {
   "cell_type": "code",
   "execution_count": 4,
   "metadata": {},
   "outputs": [
    {
     "data": {
      "text/plain": [
       "Index(['INCIDENT_NUMBER', 'OFFENSE_CODE', 'OFFENSE_CODE_GROUP',\n",
       "       'OFFENSE_DESCRIPTION', 'DISTRICT', 'REPORTING_AREA', 'SHOOTING',\n",
       "       'OCCURRED_ON_DATE', 'YEAR', 'MONTH', 'DAY_OF_WEEK', 'HOUR', 'UCR_PART',\n",
       "       'STREET', 'Lat', 'Long', 'Location'],\n",
       "      dtype='object')"
      ]
     },
     "execution_count": 4,
     "metadata": {},
     "output_type": "execute_result"
    }
   ],
   "source": [
    "df.columns"
   ]
  },
  {
   "cell_type": "code",
   "execution_count": 5,
   "metadata": {},
   "outputs": [
    {
     "data": {
      "text/plain": [
       "(394611, 17)"
      ]
     },
     "execution_count": 5,
     "metadata": {},
     "output_type": "execute_result"
    }
   ],
   "source": [
    "#checking the number of rows and columns\n",
    "df.shape"
   ]
  },
  {
   "cell_type": "markdown",
   "metadata": {},
   "source": [
    "### Data Pre-processing"
   ]
  },
  {
   "cell_type": "code",
   "execution_count": 6,
   "metadata": {
    "scrolled": false
   },
   "outputs": [
    {
     "data": {
      "text/html": [
       "<div>\n",
       "<style scoped>\n",
       "    .dataframe tbody tr th:only-of-type {\n",
       "        vertical-align: middle;\n",
       "    }\n",
       "\n",
       "    .dataframe tbody tr th {\n",
       "        vertical-align: top;\n",
       "    }\n",
       "\n",
       "    .dataframe thead th {\n",
       "        text-align: right;\n",
       "    }\n",
       "</style>\n",
       "<table border=\"1\" class=\"dataframe\">\n",
       "  <thead>\n",
       "    <tr style=\"text-align: right;\">\n",
       "      <th></th>\n",
       "      <th>Data type</th>\n",
       "      <th>Total number of values</th>\n",
       "      <th>Total Missing Values</th>\n",
       "      <th>Percentage missing</th>\n",
       "      <th>Count of unique values</th>\n",
       "    </tr>\n",
       "  </thead>\n",
       "  <tbody>\n",
       "    <tr>\n",
       "      <th>INCIDENT_NUMBER</th>\n",
       "      <td>object</td>\n",
       "      <td>394611</td>\n",
       "      <td>0</td>\n",
       "      <td>0.000000</td>\n",
       "      <td>347613</td>\n",
       "    </tr>\n",
       "    <tr>\n",
       "      <th>OFFENSE_CODE</th>\n",
       "      <td>int64</td>\n",
       "      <td>394611</td>\n",
       "      <td>0</td>\n",
       "      <td>0.000000</td>\n",
       "      <td>222</td>\n",
       "    </tr>\n",
       "    <tr>\n",
       "      <th>OFFENSE_CODE_GROUP</th>\n",
       "      <td>object</td>\n",
       "      <td>394611</td>\n",
       "      <td>0</td>\n",
       "      <td>0.000000</td>\n",
       "      <td>67</td>\n",
       "    </tr>\n",
       "    <tr>\n",
       "      <th>OFFENSE_DESCRIPTION</th>\n",
       "      <td>object</td>\n",
       "      <td>394611</td>\n",
       "      <td>0</td>\n",
       "      <td>0.000000</td>\n",
       "      <td>244</td>\n",
       "    </tr>\n",
       "    <tr>\n",
       "      <th>DISTRICT</th>\n",
       "      <td>object</td>\n",
       "      <td>394611</td>\n",
       "      <td>2050</td>\n",
       "      <td>0.519499</td>\n",
       "      <td>12</td>\n",
       "    </tr>\n",
       "    <tr>\n",
       "      <th>REPORTING_AREA</th>\n",
       "      <td>object</td>\n",
       "      <td>394611</td>\n",
       "      <td>0</td>\n",
       "      <td>0.000000</td>\n",
       "      <td>880</td>\n",
       "    </tr>\n",
       "    <tr>\n",
       "      <th>SHOOTING</th>\n",
       "      <td>object</td>\n",
       "      <td>394611</td>\n",
       "      <td>393026</td>\n",
       "      <td>99.598339</td>\n",
       "      <td>1</td>\n",
       "    </tr>\n",
       "    <tr>\n",
       "      <th>OCCURRED_ON_DATE</th>\n",
       "      <td>object</td>\n",
       "      <td>394611</td>\n",
       "      <td>0</td>\n",
       "      <td>0.000000</td>\n",
       "      <td>286576</td>\n",
       "    </tr>\n",
       "    <tr>\n",
       "      <th>YEAR</th>\n",
       "      <td>int64</td>\n",
       "      <td>394611</td>\n",
       "      <td>0</td>\n",
       "      <td>0.000000</td>\n",
       "      <td>5</td>\n",
       "    </tr>\n",
       "    <tr>\n",
       "      <th>MONTH</th>\n",
       "      <td>int64</td>\n",
       "      <td>394611</td>\n",
       "      <td>0</td>\n",
       "      <td>0.000000</td>\n",
       "      <td>12</td>\n",
       "    </tr>\n",
       "    <tr>\n",
       "      <th>DAY_OF_WEEK</th>\n",
       "      <td>object</td>\n",
       "      <td>394611</td>\n",
       "      <td>0</td>\n",
       "      <td>0.000000</td>\n",
       "      <td>7</td>\n",
       "    </tr>\n",
       "    <tr>\n",
       "      <th>HOUR</th>\n",
       "      <td>int64</td>\n",
       "      <td>394611</td>\n",
       "      <td>0</td>\n",
       "      <td>0.000000</td>\n",
       "      <td>24</td>\n",
       "    </tr>\n",
       "    <tr>\n",
       "      <th>UCR_PART</th>\n",
       "      <td>object</td>\n",
       "      <td>394611</td>\n",
       "      <td>104</td>\n",
       "      <td>0.026355</td>\n",
       "      <td>4</td>\n",
       "    </tr>\n",
       "    <tr>\n",
       "      <th>STREET</th>\n",
       "      <td>object</td>\n",
       "      <td>394611</td>\n",
       "      <td>11875</td>\n",
       "      <td>3.009293</td>\n",
       "      <td>4814</td>\n",
       "    </tr>\n",
       "    <tr>\n",
       "      <th>Lat</th>\n",
       "      <td>float64</td>\n",
       "      <td>394611</td>\n",
       "      <td>24790</td>\n",
       "      <td>6.282136</td>\n",
       "      <td>18724</td>\n",
       "    </tr>\n",
       "    <tr>\n",
       "      <th>Long</th>\n",
       "      <td>float64</td>\n",
       "      <td>394611</td>\n",
       "      <td>24790</td>\n",
       "      <td>6.282136</td>\n",
       "      <td>18726</td>\n",
       "    </tr>\n",
       "    <tr>\n",
       "      <th>Location</th>\n",
       "      <td>object</td>\n",
       "      <td>394611</td>\n",
       "      <td>0</td>\n",
       "      <td>0.000000</td>\n",
       "      <td>18743</td>\n",
       "    </tr>\n",
       "  </tbody>\n",
       "</table>\n",
       "</div>"
      ],
      "text/plain": [
       "                    Data type  Total number of values  Total Missing Values  \\\n",
       "INCIDENT_NUMBER        object                  394611                     0   \n",
       "OFFENSE_CODE            int64                  394611                     0   \n",
       "OFFENSE_CODE_GROUP     object                  394611                     0   \n",
       "OFFENSE_DESCRIPTION    object                  394611                     0   \n",
       "DISTRICT               object                  394611                  2050   \n",
       "REPORTING_AREA         object                  394611                     0   \n",
       "SHOOTING               object                  394611                393026   \n",
       "OCCURRED_ON_DATE       object                  394611                     0   \n",
       "YEAR                    int64                  394611                     0   \n",
       "MONTH                   int64                  394611                     0   \n",
       "DAY_OF_WEEK            object                  394611                     0   \n",
       "HOUR                    int64                  394611                     0   \n",
       "UCR_PART               object                  394611                   104   \n",
       "STREET                 object                  394611                 11875   \n",
       "Lat                   float64                  394611                 24790   \n",
       "Long                  float64                  394611                 24790   \n",
       "Location               object                  394611                     0   \n",
       "\n",
       "                     Percentage missing   Count of unique values  \n",
       "INCIDENT_NUMBER                0.000000                   347613  \n",
       "OFFENSE_CODE                   0.000000                      222  \n",
       "OFFENSE_CODE_GROUP             0.000000                       67  \n",
       "OFFENSE_DESCRIPTION            0.000000                      244  \n",
       "DISTRICT                       0.519499                       12  \n",
       "REPORTING_AREA                 0.000000                      880  \n",
       "SHOOTING                      99.598339                        1  \n",
       "OCCURRED_ON_DATE               0.000000                   286576  \n",
       "YEAR                           0.000000                        5  \n",
       "MONTH                          0.000000                       12  \n",
       "DAY_OF_WEEK                    0.000000                        7  \n",
       "HOUR                           0.000000                       24  \n",
       "UCR_PART                       0.026355                        4  \n",
       "STREET                         3.009293                     4814  \n",
       "Lat                            6.282136                    18724  \n",
       "Long                           6.282136                    18726  \n",
       "Location                       0.000000                    18743  "
      ]
     },
     "execution_count": 6,
     "metadata": {},
     "output_type": "execute_result"
    }
   ],
   "source": [
    "#checking count,missing,nunique values of all columns using the function created\n",
    "eda_missing_nunique(df)"
   ]
  },
  {
   "cell_type": "code",
   "execution_count": 7,
   "metadata": {},
   "outputs": [],
   "source": [
    "# Convert OCCURED_ON_DATE to datetime\n",
    "df['OCCURRED_ON_DATE'] = pd.to_datetime(df['OCCURRED_ON_DATE'])"
   ]
  },
  {
   "cell_type": "code",
   "execution_count": 8,
   "metadata": {},
   "outputs": [
    {
     "data": {
      "text/plain": [
       "<matplotlib.axes._subplots.AxesSubplot at 0x1e0ccb0e358>"
      ]
     },
     "execution_count": 8,
     "metadata": {},
     "output_type": "execute_result"
    },
    {
     "data": {
      "image/png": "[encoded data removed]",
      "text/plain": [
       "<Figure size 864x432 with 1 Axes>"
      ]
     },
     "metadata": {
      "needs_background": "light"
     },
     "output_type": "display_data"
    }
   ],
   "source": [
    "#Plotting a bar char to plot percentage of null values in the dataset\n",
    "null_vals = df.isnull().sum()/len(df)*100\n",
    "null_vals = pd.DataFrame(null_vals)\n",
    "null_vals.reset_index(inplace = True)\n",
    "null_vals.columns = [\"Columns\",\"Percent missing\"]\n",
    "plt.figure(figsize = (12,6))\n",
    "plt.xticks(rotation=45)\n",
    "sns.barplot(x = \"Columns\",y =\"Percent missing\",data = null_vals)"
   ]
  },
  {
   "cell_type": "code",
   "execution_count": 9,
   "metadata": {},
   "outputs": [],
   "source": [
    "# Fill in NANs in SHOOTING column with N as 'NO'\n",
    "df.SHOOTING.fillna('N', inplace=True)"
   ]
  },
  {
   "cell_type": "code",
   "execution_count": 10,
   "metadata": {},
   "outputs": [],
   "source": [
    "# Replace -1 values in Lat and Long \n",
    "df.Lat.replace(-1, None, inplace=True)\n",
    "df.Long.replace(-1, None, inplace=True)"
   ]
  },
  {
   "cell_type": "code",
   "execution_count": 11,
   "metadata": {},
   "outputs": [
    {
     "data": {
      "text/html": [
       "<div>\n",
       "<style scoped>\n",
       "    .dataframe tbody tr th:only-of-type {\n",
       "        vertical-align: middle;\n",
       "    }\n",
       "\n",
       "    .dataframe tbody tr th {\n",
       "        vertical-align: top;\n",
       "    }\n",
       "\n",
       "    .dataframe thead th {\n",
       "        text-align: right;\n",
       "    }\n",
       "</style>\n",
       "<table border=\"1\" class=\"dataframe\">\n",
       "  <thead>\n",
       "    <tr style=\"text-align: right;\">\n",
       "      <th></th>\n",
       "      <th>Data type</th>\n",
       "      <th>Total number of values</th>\n",
       "      <th>Total Missing Values</th>\n",
       "      <th>Percentage missing</th>\n",
       "      <th>Count of unique values</th>\n",
       "    </tr>\n",
       "  </thead>\n",
       "  <tbody>\n",
       "    <tr>\n",
       "      <th>INCIDENT_NUMBER</th>\n",
       "      <td>object</td>\n",
       "      <td>394611</td>\n",
       "      <td>0</td>\n",
       "      <td>0.000000</td>\n",
       "      <td>347613</td>\n",
       "    </tr>\n",
       "    <tr>\n",
       "      <th>OFFENSE_CODE</th>\n",
       "      <td>int64</td>\n",
       "      <td>394611</td>\n",
       "      <td>0</td>\n",
       "      <td>0.000000</td>\n",
       "      <td>222</td>\n",
       "    </tr>\n",
       "    <tr>\n",
       "      <th>OFFENSE_CODE_GROUP</th>\n",
       "      <td>object</td>\n",
       "      <td>394611</td>\n",
       "      <td>0</td>\n",
       "      <td>0.000000</td>\n",
       "      <td>67</td>\n",
       "    </tr>\n",
       "    <tr>\n",
       "      <th>OFFENSE_DESCRIPTION</th>\n",
       "      <td>object</td>\n",
       "      <td>394611</td>\n",
       "      <td>0</td>\n",
       "      <td>0.000000</td>\n",
       "      <td>244</td>\n",
       "    </tr>\n",
       "    <tr>\n",
       "      <th>DISTRICT</th>\n",
       "      <td>object</td>\n",
       "      <td>394611</td>\n",
       "      <td>2050</td>\n",
       "      <td>0.519499</td>\n",
       "      <td>12</td>\n",
       "    </tr>\n",
       "    <tr>\n",
       "      <th>REPORTING_AREA</th>\n",
       "      <td>object</td>\n",
       "      <td>394611</td>\n",
       "      <td>0</td>\n",
       "      <td>0.000000</td>\n",
       "      <td>880</td>\n",
       "    </tr>\n",
       "    <tr>\n",
       "      <th>SHOOTING</th>\n",
       "      <td>object</td>\n",
       "      <td>394611</td>\n",
       "      <td>0</td>\n",
       "      <td>0.000000</td>\n",
       "      <td>2</td>\n",
       "    </tr>\n",
       "    <tr>\n",
       "      <th>OCCURRED_ON_DATE</th>\n",
       "      <td>datetime64[ns]</td>\n",
       "      <td>394611</td>\n",
       "      <td>0</td>\n",
       "      <td>0.000000</td>\n",
       "      <td>286576</td>\n",
       "    </tr>\n",
       "    <tr>\n",
       "      <th>YEAR</th>\n",
       "      <td>int64</td>\n",
       "      <td>394611</td>\n",
       "      <td>0</td>\n",
       "      <td>0.000000</td>\n",
       "      <td>5</td>\n",
       "    </tr>\n",
       "    <tr>\n",
       "      <th>MONTH</th>\n",
       "      <td>int64</td>\n",
       "      <td>394611</td>\n",
       "      <td>0</td>\n",
       "      <td>0.000000</td>\n",
       "      <td>12</td>\n",
       "    </tr>\n",
       "    <tr>\n",
       "      <th>DAY_OF_WEEK</th>\n",
       "      <td>object</td>\n",
       "      <td>394611</td>\n",
       "      <td>0</td>\n",
       "      <td>0.000000</td>\n",
       "      <td>7</td>\n",
       "    </tr>\n",
       "    <tr>\n",
       "      <th>HOUR</th>\n",
       "      <td>int64</td>\n",
       "      <td>394611</td>\n",
       "      <td>0</td>\n",
       "      <td>0.000000</td>\n",
       "      <td>24</td>\n",
       "    </tr>\n",
       "    <tr>\n",
       "      <th>UCR_PART</th>\n",
       "      <td>object</td>\n",
       "      <td>394611</td>\n",
       "      <td>104</td>\n",
       "      <td>0.026355</td>\n",
       "      <td>4</td>\n",
       "    </tr>\n",
       "    <tr>\n",
       "      <th>STREET</th>\n",
       "      <td>object</td>\n",
       "      <td>394611</td>\n",
       "      <td>11875</td>\n",
       "      <td>3.009293</td>\n",
       "      <td>4814</td>\n",
       "    </tr>\n",
       "    <tr>\n",
       "      <th>Lat</th>\n",
       "      <td>float64</td>\n",
       "      <td>394611</td>\n",
       "      <td>24847</td>\n",
       "      <td>6.296581</td>\n",
       "      <td>18723</td>\n",
       "    </tr>\n",
       "    <tr>\n",
       "      <th>Long</th>\n",
       "      <td>float64</td>\n",
       "      <td>394611</td>\n",
       "      <td>24847</td>\n",
       "      <td>6.296581</td>\n",
       "      <td>18725</td>\n",
       "    </tr>\n",
       "    <tr>\n",
       "      <th>Location</th>\n",
       "      <td>object</td>\n",
       "      <td>394611</td>\n",
       "      <td>0</td>\n",
       "      <td>0.000000</td>\n",
       "      <td>18743</td>\n",
       "    </tr>\n",
       "  </tbody>\n",
       "</table>\n",
       "</div>"
      ],
      "text/plain": [
       "                          Data type  Total number of values  \\\n",
       "INCIDENT_NUMBER              object                  394611   \n",
       "OFFENSE_CODE                  int64                  394611   \n",
       "OFFENSE_CODE_GROUP           object                  394611   \n",
       "OFFENSE_DESCRIPTION          object                  394611   \n",
       "DISTRICT                     object                  394611   \n",
       "REPORTING_AREA               object                  394611   \n",
       "SHOOTING                     object                  394611   \n",
       "OCCURRED_ON_DATE     datetime64[ns]                  394611   \n",
       "YEAR                          int64                  394611   \n",
       "MONTH                         int64                  394611   \n",
       "DAY_OF_WEEK                  object                  394611   \n",
       "HOUR                          int64                  394611   \n",
       "UCR_PART                     object                  394611   \n",
       "STREET                       object                  394611   \n",
       "Lat                         float64                  394611   \n",
       "Long                        float64                  394611   \n",
       "Location                     object                  394611   \n",
       "\n",
       "                     Total Missing Values  Percentage missing  \\\n",
       "INCIDENT_NUMBER                         0            0.000000   \n",
       "OFFENSE_CODE                            0            0.000000   \n",
       "OFFENSE_CODE_GROUP                      0            0.000000   \n",
       "OFFENSE_DESCRIPTION                     0            0.000000   \n",
       "DISTRICT                             2050            0.519499   \n",
       "REPORTING_AREA                          0            0.000000   \n",
       "SHOOTING                                0            0.000000   \n",
       "OCCURRED_ON_DATE                        0            0.000000   \n",
       "YEAR                                    0            0.000000   \n",
       "MONTH                                   0            0.000000   \n",
       "DAY_OF_WEEK                             0            0.000000   \n",
       "HOUR                                    0            0.000000   \n",
       "UCR_PART                              104            0.026355   \n",
       "STREET                              11875            3.009293   \n",
       "Lat                                 24847            6.296581   \n",
       "Long                                24847            6.296581   \n",
       "Location                                0            0.000000   \n",
       "\n",
       "                      Count of unique values  \n",
       "INCIDENT_NUMBER                       347613  \n",
       "OFFENSE_CODE                             222  \n",
       "OFFENSE_CODE_GROUP                        67  \n",
       "OFFENSE_DESCRIPTION                      244  \n",
       "DISTRICT                                  12  \n",
       "REPORTING_AREA                           880  \n",
       "SHOOTING                                   2  \n",
       "OCCURRED_ON_DATE                      286576  \n",
       "YEAR                                       5  \n",
       "MONTH                                     12  \n",
       "DAY_OF_WEEK                                7  \n",
       "HOUR                                      24  \n",
       "UCR_PART                                   4  \n",
       "STREET                                  4814  \n",
       "Lat                                    18723  \n",
       "Long                                   18725  \n",
       "Location                               18743  "
      ]
     },
     "execution_count": 11,
     "metadata": {},
     "output_type": "execute_result"
    }
   ],
   "source": [
    "#checking the null values in Shooting column\n",
    "eda_missing_nunique(df)"
   ]
  },
  {
   "cell_type": "markdown",
   "metadata": {},
   "source": [
    "Lets check types of Crimes in the Boston City and drop rows which are not actually a crime"
   ]
  },
  {
   "cell_type": "code",
   "execution_count": 12,
   "metadata": {},
   "outputs": [],
   "source": [
    "df_od = df.groupby('OFFENSE_DESCRIPTION').size().reset_index(name = 'counts').set_index('OFFENSE_DESCRIPTION').sort_values(by = 'counts', ascending = False)"
   ]
  },
  {
   "cell_type": "code",
   "execution_count": 13,
   "metadata": {},
   "outputs": [
    {
     "data": {
      "text/html": [
       "<div>\n",
       "<style scoped>\n",
       "    .dataframe tbody tr th:only-of-type {\n",
       "        vertical-align: middle;\n",
       "    }\n",
       "\n",
       "    .dataframe tbody tr th {\n",
       "        vertical-align: top;\n",
       "    }\n",
       "\n",
       "    .dataframe thead th {\n",
       "        text-align: right;\n",
       "    }\n",
       "</style>\n",
       "<table border=\"1\" class=\"dataframe\">\n",
       "  <thead>\n",
       "    <tr style=\"text-align: right;\">\n",
       "      <th></th>\n",
       "      <th>counts</th>\n",
       "    </tr>\n",
       "    <tr>\n",
       "      <th>OFFENSE_DESCRIPTION</th>\n",
       "      <th></th>\n",
       "    </tr>\n",
       "  </thead>\n",
       "  <tbody>\n",
       "    <tr>\n",
       "      <th>SICK/INJURED/MEDICAL - PERSON</th>\n",
       "      <td>24002</td>\n",
       "    </tr>\n",
       "    <tr>\n",
       "      <th>INVESTIGATE PERSON</th>\n",
       "      <td>23025</td>\n",
       "    </tr>\n",
       "    <tr>\n",
       "      <th>M/V - LEAVING SCENE - PROPERTY DAMAGE</th>\n",
       "      <td>20193</td>\n",
       "    </tr>\n",
       "    <tr>\n",
       "      <th>ASSAULT SIMPLE - BATTERY</th>\n",
       "      <td>18348</td>\n",
       "    </tr>\n",
       "    <tr>\n",
       "      <th>VANDALISM</th>\n",
       "      <td>18294</td>\n",
       "    </tr>\n",
       "    <tr>\n",
       "      <th>VERBAL DISPUTE</th>\n",
       "      <td>16354</td>\n",
       "    </tr>\n",
       "    <tr>\n",
       "      <th>INVESTIGATE PROPERTY</th>\n",
       "      <td>13975</td>\n",
       "    </tr>\n",
       "    <tr>\n",
       "      <th>TOWED MOTOR VEHICLE</th>\n",
       "      <td>13868</td>\n",
       "    </tr>\n",
       "    <tr>\n",
       "      <th>THREATS TO DO BODILY HARM</th>\n",
       "      <td>11300</td>\n",
       "    </tr>\n",
       "    <tr>\n",
       "      <th>PROPERTY - LOST</th>\n",
       "      <td>11269</td>\n",
       "    </tr>\n",
       "    <tr>\n",
       "      <th>LARCENY THEFT FROM BUILDING</th>\n",
       "      <td>11161</td>\n",
       "    </tr>\n",
       "    <tr>\n",
       "      <th>LARCENY THEFT FROM MV - NON-ACCESSORY</th>\n",
       "      <td>10618</td>\n",
       "    </tr>\n",
       "    <tr>\n",
       "      <th>WARRANT ARREST</th>\n",
       "      <td>10260</td>\n",
       "    </tr>\n",
       "    <tr>\n",
       "      <th>LARCENY SHOPLIFTING</th>\n",
       "      <td>9856</td>\n",
       "    </tr>\n",
       "    <tr>\n",
       "      <th>M/V ACCIDENT - PROPERTY Â DAMAGE</th>\n",
       "      <td>8246</td>\n",
       "    </tr>\n",
       "    <tr>\n",
       "      <th>LARCENY ALL OTHERS</th>\n",
       "      <td>7432</td>\n",
       "    </tr>\n",
       "    <tr>\n",
       "      <th>M/V ACCIDENT - PERSONAL INJURY</th>\n",
       "      <td>6202</td>\n",
       "    </tr>\n",
       "    <tr>\n",
       "      <th>ASSAULT - AGGRAVATED - BATTERY</th>\n",
       "      <td>6095</td>\n",
       "    </tr>\n",
       "    <tr>\n",
       "      <th>MISSING PERSON - LOCATED</th>\n",
       "      <td>5905</td>\n",
       "    </tr>\n",
       "    <tr>\n",
       "      <th>FRAUD - FALSE PRETENSE / SCHEME</th>\n",
       "      <td>5653</td>\n",
       "    </tr>\n",
       "    <tr>\n",
       "      <th>HARASSMENT</th>\n",
       "      <td>5098</td>\n",
       "    </tr>\n",
       "    <tr>\n",
       "      <th>PROPERTY - FOUND</th>\n",
       "      <td>4551</td>\n",
       "    </tr>\n",
       "    <tr>\n",
       "      <th>MISSING PERSON</th>\n",
       "      <td>4442</td>\n",
       "    </tr>\n",
       "    <tr>\n",
       "      <th>AUTO THEFT</th>\n",
       "      <td>4242</td>\n",
       "    </tr>\n",
       "    <tr>\n",
       "      <th>TRESPASSING</th>\n",
       "      <td>3977</td>\n",
       "    </tr>\n",
       "    <tr>\n",
       "      <th>FRAUD - CREDIT CARD / ATM FRAUD</th>\n",
       "      <td>3787</td>\n",
       "    </tr>\n",
       "    <tr>\n",
       "      <th>M/V ACCIDENT - OTHER</th>\n",
       "      <td>3764</td>\n",
       "    </tr>\n",
       "    <tr>\n",
       "      <th>ASSAULT - AGGRAVATED</th>\n",
       "      <td>3666</td>\n",
       "    </tr>\n",
       "    <tr>\n",
       "      <th>ROBBERY - STREET</th>\n",
       "      <td>3569</td>\n",
       "    </tr>\n",
       "    <tr>\n",
       "      <th>SERVICE TO OTHER PD INSIDE OF MA.</th>\n",
       "      <td>3447</td>\n",
       "    </tr>\n",
       "    <tr>\n",
       "      <th>...</th>\n",
       "      <td>...</td>\n",
       "    </tr>\n",
       "    <tr>\n",
       "      <th>PROSTITUTE - COMMON NIGHTWALKER</th>\n",
       "      <td>2</td>\n",
       "    </tr>\n",
       "    <tr>\n",
       "      <th>LARCENY NON-ACCESSORY FROM VEH. $50 TO $199</th>\n",
       "      <td>2</td>\n",
       "    </tr>\n",
       "    <tr>\n",
       "      <th>B&amp;E NON-RESIDENCE DAY - NO PROP TAKEN</th>\n",
       "      <td>2</td>\n",
       "    </tr>\n",
       "    <tr>\n",
       "      <th>B&amp;E NON-RESIDENCE DAY - NO FORCE</th>\n",
       "      <td>2</td>\n",
       "    </tr>\n",
       "    <tr>\n",
       "      <th>ROBBERY - UNARMED - RESIDENCE</th>\n",
       "      <td>2</td>\n",
       "    </tr>\n",
       "    <tr>\n",
       "      <th>DRUGS - POSS CLASS D - INTENT MFR DIST DISP</th>\n",
       "      <td>2</td>\n",
       "    </tr>\n",
       "    <tr>\n",
       "      <th>BIOLOGICAL THREATS</th>\n",
       "      <td>2</td>\n",
       "    </tr>\n",
       "    <tr>\n",
       "      <th>COUNTERFEITING</th>\n",
       "      <td>2</td>\n",
       "    </tr>\n",
       "    <tr>\n",
       "      <th>LARCENY NON-ACCESSORY FROM VEH. $200 &amp; OVER</th>\n",
       "      <td>2</td>\n",
       "    </tr>\n",
       "    <tr>\n",
       "      <th>DRUGS - POSS CLASS E INTENT TO MF DIST DISP</th>\n",
       "      <td>2</td>\n",
       "    </tr>\n",
       "    <tr>\n",
       "      <th>ROBBERY ATTEMPT - KNIFE - BANK</th>\n",
       "      <td>2</td>\n",
       "    </tr>\n",
       "    <tr>\n",
       "      <th>DISORDERLY PERSON</th>\n",
       "      <td>2</td>\n",
       "    </tr>\n",
       "    <tr>\n",
       "      <th>DRUGS - POSS CLASS D - MARIJUANA, ETC.</th>\n",
       "      <td>2</td>\n",
       "    </tr>\n",
       "    <tr>\n",
       "      <th>PRISONER ATTEMPT TO RESCUE</th>\n",
       "      <td>2</td>\n",
       "    </tr>\n",
       "    <tr>\n",
       "      <th>CHILD ABUSE</th>\n",
       "      <td>1</td>\n",
       "    </tr>\n",
       "    <tr>\n",
       "      <th>VIOLATION - RESTRAINING ORDER</th>\n",
       "      <td>1</td>\n",
       "    </tr>\n",
       "    <tr>\n",
       "      <th>ROBBERY - KNIFE - STREET</th>\n",
       "      <td>1</td>\n",
       "    </tr>\n",
       "    <tr>\n",
       "      <th>DRUGS - GLUE INHALATION</th>\n",
       "      <td>1</td>\n",
       "    </tr>\n",
       "    <tr>\n",
       "      <th>KILLING OF FELON BY POLICE</th>\n",
       "      <td>1</td>\n",
       "    </tr>\n",
       "    <tr>\n",
       "      <th>B&amp;E NON-RESIDENCE NIGHT - FORCE</th>\n",
       "      <td>1</td>\n",
       "    </tr>\n",
       "    <tr>\n",
       "      <th>FRAUDS - ALL OTHER</th>\n",
       "      <td>1</td>\n",
       "    </tr>\n",
       "    <tr>\n",
       "      <th>B&amp;E RESIDENCE DAY - NO FORCE</th>\n",
       "      <td>1</td>\n",
       "    </tr>\n",
       "    <tr>\n",
       "      <th>FRAUD - FALSE PRETENSE</th>\n",
       "      <td>1</td>\n",
       "    </tr>\n",
       "    <tr>\n",
       "      <th>ASSAULT &amp; BATTERY D/W - OTHER ON POLICE OFFICER</th>\n",
       "      <td>1</td>\n",
       "    </tr>\n",
       "    <tr>\n",
       "      <th>ASSAULT D/W - KNIFE ON POLICE OFFICER</th>\n",
       "      <td>1</td>\n",
       "    </tr>\n",
       "    <tr>\n",
       "      <th>AUTO THEFT - OUTSIDE - RECOVERED IN BOSTON</th>\n",
       "      <td>1</td>\n",
       "    </tr>\n",
       "    <tr>\n",
       "      <th>AUTO THEFT LEASE/RENT VEHICLE</th>\n",
       "      <td>1</td>\n",
       "    </tr>\n",
       "    <tr>\n",
       "      <th>AUTO THEFT OTHER</th>\n",
       "      <td>1</td>\n",
       "    </tr>\n",
       "    <tr>\n",
       "      <th>FIREARM/WEAPON - CARRY - SELL - RENT</th>\n",
       "      <td>1</td>\n",
       "    </tr>\n",
       "    <tr>\n",
       "      <th>A&amp;B HANDS, FEET, ETC.  - MED. ATTENTION REQ.</th>\n",
       "      <td>1</td>\n",
       "    </tr>\n",
       "  </tbody>\n",
       "</table>\n",
       "<p>244 rows × 1 columns</p>\n",
       "</div>"
      ],
      "text/plain": [
       "                                                 counts\n",
       "OFFENSE_DESCRIPTION                                    \n",
       "SICK/INJURED/MEDICAL - PERSON                     24002\n",
       "INVESTIGATE PERSON                                23025\n",
       "M/V - LEAVING SCENE - PROPERTY DAMAGE             20193\n",
       "ASSAULT SIMPLE - BATTERY                          18348\n",
       "VANDALISM                                         18294\n",
       "VERBAL DISPUTE                                    16354\n",
       "INVESTIGATE PROPERTY                              13975\n",
       "TOWED MOTOR VEHICLE                               13868\n",
       "THREATS TO DO BODILY HARM                         11300\n",
       "PROPERTY - LOST                                   11269\n",
       "LARCENY THEFT FROM BUILDING                       11161\n",
       "LARCENY THEFT FROM MV - NON-ACCESSORY             10618\n",
       "WARRANT ARREST                                    10260\n",
       "LARCENY SHOPLIFTING                                9856\n",
       "M/V ACCIDENT - PROPERTY Â DAMAGE                   8246\n",
       "LARCENY ALL OTHERS                                 7432\n",
       "M/V ACCIDENT - PERSONAL INJURY                     6202\n",
       "ASSAULT - AGGRAVATED - BATTERY                     6095\n",
       "MISSING PERSON - LOCATED                           5905\n",
       "FRAUD - FALSE PRETENSE / SCHEME                    5653\n",
       "HARASSMENT                                         5098\n",
       "PROPERTY - FOUND                                   4551\n",
       "MISSING PERSON                                     4442\n",
       "AUTO THEFT                                         4242\n",
       "TRESPASSING                                        3977\n",
       "FRAUD - CREDIT CARD / ATM FRAUD                    3787\n",
       "M/V ACCIDENT - OTHER                               3764\n",
       "ASSAULT - AGGRAVATED                               3666\n",
       "ROBBERY - STREET                                   3569\n",
       "SERVICE TO OTHER PD INSIDE OF MA.                  3447\n",
       "...                                                 ...\n",
       "PROSTITUTE - COMMON NIGHTWALKER                       2\n",
       "LARCENY NON-ACCESSORY FROM VEH. $50 TO $199           2\n",
       "B&E NON-RESIDENCE DAY - NO PROP TAKEN                 2\n",
       "B&E NON-RESIDENCE DAY - NO FORCE                      2\n",
       "ROBBERY - UNARMED - RESIDENCE                         2\n",
       "DRUGS - POSS CLASS D - INTENT MFR DIST DISP           2\n",
       "BIOLOGICAL THREATS                                    2\n",
       "COUNTERFEITING                                        2\n",
       "LARCENY NON-ACCESSORY FROM VEH. $200 & OVER           2\n",
       "DRUGS - POSS CLASS E INTENT TO MF DIST DISP           2\n",
       "ROBBERY ATTEMPT - KNIFE - BANK                        2\n",
       "DISORDERLY PERSON                                     2\n",
       "DRUGS - POSS CLASS D - MARIJUANA, ETC.                2\n",
       "PRISONER ATTEMPT TO RESCUE                            2\n",
       "CHILD ABUSE                                           1\n",
       "VIOLATION - RESTRAINING ORDER                         1\n",
       "ROBBERY - KNIFE - STREET                              1\n",
       "DRUGS - GLUE INHALATION                               1\n",
       "KILLING OF FELON BY POLICE                            1\n",
       "B&E NON-RESIDENCE NIGHT - FORCE                       1\n",
       "FRAUDS - ALL OTHER                                    1\n",
       "B&E RESIDENCE DAY - NO FORCE                          1\n",
       "FRAUD - FALSE PRETENSE                                1\n",
       "ASSAULT & BATTERY D/W - OTHER ON POLICE OFFICER       1\n",
       "ASSAULT D/W - KNIFE ON POLICE OFFICER                 1\n",
       "AUTO THEFT - OUTSIDE - RECOVERED IN BOSTON            1\n",
       "AUTO THEFT LEASE/RENT VEHICLE                         1\n",
       "AUTO THEFT OTHER                                      1\n",
       "FIREARM/WEAPON - CARRY - SELL - RENT                  1\n",
       "A&B HANDS, FEET, ETC.  - MED. ATTENTION REQ.          1\n",
       "\n",
       "[244 rows x 1 columns]"
      ]
     },
     "execution_count": 13,
     "metadata": {},
     "output_type": "execute_result"
    }
   ],
   "source": [
    "df_od"
   ]
  },
  {
   "cell_type": "markdown",
   "metadata": {},
   "source": [
    "Some large classes here aren't crimes at all. We have to fix that. Let's focus on the UCR Part numbers.\n",
    "\n",
    "According to Wikipedia, UCR part I and part II offenses are actually offenses. As for part III let's check what they actually are. Link https://en.wikipedia.org/wiki/Uniform_Crime_Reports"
   ]
  },
  {
   "cell_type": "code",
   "execution_count": 14,
   "metadata": {},
   "outputs": [],
   "source": [
    "df_ucr = df.groupby('UCR_PART').size().reset_index(name = 'counts').set_index('UCR_PART')"
   ]
  },
  {
   "cell_type": "code",
   "execution_count": 15,
   "metadata": {},
   "outputs": [
    {
     "data": {
      "text/html": [
       "<div>\n",
       "<style scoped>\n",
       "    .dataframe tbody tr th:only-of-type {\n",
       "        vertical-align: middle;\n",
       "    }\n",
       "\n",
       "    .dataframe tbody tr th {\n",
       "        vertical-align: top;\n",
       "    }\n",
       "\n",
       "    .dataframe thead th {\n",
       "        text-align: right;\n",
       "    }\n",
       "</style>\n",
       "<table border=\"1\" class=\"dataframe\">\n",
       "  <thead>\n",
       "    <tr style=\"text-align: right;\">\n",
       "      <th></th>\n",
       "      <th>counts</th>\n",
       "    </tr>\n",
       "    <tr>\n",
       "      <th>UCR_PART</th>\n",
       "      <th></th>\n",
       "    </tr>\n",
       "  </thead>\n",
       "  <tbody>\n",
       "    <tr>\n",
       "      <th>Other</th>\n",
       "      <td>1520</td>\n",
       "    </tr>\n",
       "    <tr>\n",
       "      <th>Part One</th>\n",
       "      <td>74757</td>\n",
       "    </tr>\n",
       "    <tr>\n",
       "      <th>Part Three</th>\n",
       "      <td>197745</td>\n",
       "    </tr>\n",
       "    <tr>\n",
       "      <th>Part Two</th>\n",
       "      <td>120485</td>\n",
       "    </tr>\n",
       "  </tbody>\n",
       "</table>\n",
       "</div>"
      ],
      "text/plain": [
       "            counts\n",
       "UCR_PART          \n",
       "Other         1520\n",
       "Part One     74757\n",
       "Part Three  197745\n",
       "Part Two    120485"
      ]
     },
     "execution_count": 15,
     "metadata": {},
     "output_type": "execute_result"
    }
   ],
   "source": [
    "df_ucr"
   ]
  },
  {
   "cell_type": "code",
   "execution_count": 16,
   "metadata": {},
   "outputs": [],
   "source": [
    "#analyze Part Three \n",
    "df_p3 = df.loc[df['UCR_PART'] == 'Part Three']"
   ]
  },
  {
   "cell_type": "code",
   "execution_count": 17,
   "metadata": {},
   "outputs": [],
   "source": [
    "df_3d = df_p3.groupby('OFFENSE_DESCRIPTION').size().reset_index(name = 'counts').set_index('OFFENSE_DESCRIPTION')"
   ]
  },
  {
   "cell_type": "code",
   "execution_count": 18,
   "metadata": {},
   "outputs": [
    {
     "data": {
      "text/html": [
       "<div>\n",
       "<style scoped>\n",
       "    .dataframe tbody tr th:only-of-type {\n",
       "        vertical-align: middle;\n",
       "    }\n",
       "\n",
       "    .dataframe tbody tr th {\n",
       "        vertical-align: top;\n",
       "    }\n",
       "\n",
       "    .dataframe thead th {\n",
       "        text-align: right;\n",
       "    }\n",
       "</style>\n",
       "<table border=\"1\" class=\"dataframe\">\n",
       "  <thead>\n",
       "    <tr style=\"text-align: right;\">\n",
       "      <th></th>\n",
       "      <th>counts</th>\n",
       "    </tr>\n",
       "    <tr>\n",
       "      <th>OFFENSE_DESCRIPTION</th>\n",
       "      <th></th>\n",
       "    </tr>\n",
       "  </thead>\n",
       "  <tbody>\n",
       "    <tr>\n",
       "      <th>AIRCRAFT INCIDENTS</th>\n",
       "      <td>52</td>\n",
       "    </tr>\n",
       "    <tr>\n",
       "      <th>ANIMAL CONTROL - DOG BITES - ETC.</th>\n",
       "      <td>451</td>\n",
       "    </tr>\n",
       "    <tr>\n",
       "      <th>ANIMAL INCIDENTS</th>\n",
       "      <td>343</td>\n",
       "    </tr>\n",
       "    <tr>\n",
       "      <th>DANGEROUS OR HAZARDOUS CONDITION</th>\n",
       "      <td>356</td>\n",
       "    </tr>\n",
       "    <tr>\n",
       "      <th>DEATH INVESTIGATION</th>\n",
       "      <td>1480</td>\n",
       "    </tr>\n",
       "    <tr>\n",
       "      <th>DEMONSTRATIONS/RIOT</th>\n",
       "      <td>318</td>\n",
       "    </tr>\n",
       "    <tr>\n",
       "      <th>EXPLOSIVES - TURNED IN OR FOUND</th>\n",
       "      <td>16</td>\n",
       "    </tr>\n",
       "    <tr>\n",
       "      <th>FIRE REPORT - CAR, BRUSH, ETC.</th>\n",
       "      <td>627</td>\n",
       "    </tr>\n",
       "    <tr>\n",
       "      <th>FIRE REPORT - HOUSE, BUILDING, ETC.</th>\n",
       "      <td>1533</td>\n",
       "    </tr>\n",
       "    <tr>\n",
       "      <th>FIREARM/WEAPON - ACCIDENTAL INJURY / DEATH</th>\n",
       "      <td>12</td>\n",
       "    </tr>\n",
       "    <tr>\n",
       "      <th>FIREARM/WEAPON - FOUND OR CONFISCATED</th>\n",
       "      <td>818</td>\n",
       "    </tr>\n",
       "    <tr>\n",
       "      <th>FIREARM/WEAPON - LOST</th>\n",
       "      <td>15</td>\n",
       "    </tr>\n",
       "    <tr>\n",
       "      <th>GATHERING CAUSING ANNOYANCE</th>\n",
       "      <td>27</td>\n",
       "    </tr>\n",
       "    <tr>\n",
       "      <th>HARBOR INCIDENT / VIOLATION</th>\n",
       "      <td>272</td>\n",
       "    </tr>\n",
       "    <tr>\n",
       "      <th>INJURY BICYCLE NO M/V INVOLVED</th>\n",
       "      <td>67</td>\n",
       "    </tr>\n",
       "    <tr>\n",
       "      <th>INTIMIDATING WITNESS</th>\n",
       "      <td>372</td>\n",
       "    </tr>\n",
       "    <tr>\n",
       "      <th>INVESTIGATE PERSON</th>\n",
       "      <td>23020</td>\n",
       "    </tr>\n",
       "    <tr>\n",
       "      <th>INVESTIGATE PROPERTY</th>\n",
       "      <td>13975</td>\n",
       "    </tr>\n",
       "    <tr>\n",
       "      <th>INVESTIGATION FOR ANOTHER AGENCY</th>\n",
       "      <td>247</td>\n",
       "    </tr>\n",
       "    <tr>\n",
       "      <th>LANDLORD - TENANT SERVICE</th>\n",
       "      <td>1227</td>\n",
       "    </tr>\n",
       "    <tr>\n",
       "      <th>LICENSE PREMISE VIOLATION</th>\n",
       "      <td>2141</td>\n",
       "    </tr>\n",
       "    <tr>\n",
       "      <th>M/V - LEAVING SCENE - PERSONAL INJURY</th>\n",
       "      <td>1576</td>\n",
       "    </tr>\n",
       "    <tr>\n",
       "      <th>M/V - LEAVING SCENE - PROPERTY DAMAGE</th>\n",
       "      <td>20193</td>\n",
       "    </tr>\n",
       "    <tr>\n",
       "      <th>M/V ACCIDENT - INVOLVING BICYCLE - NO INJURY</th>\n",
       "      <td>506</td>\n",
       "    </tr>\n",
       "    <tr>\n",
       "      <th>M/V ACCIDENT - INVOLVING PEDESTRIAN - NO INJURY</th>\n",
       "      <td>536</td>\n",
       "    </tr>\n",
       "    <tr>\n",
       "      <th>M/V ACCIDENT - INVOLVING Â BICYCLE - INJURY</th>\n",
       "      <td>1080</td>\n",
       "    </tr>\n",
       "    <tr>\n",
       "      <th>M/V ACCIDENT - OTHER</th>\n",
       "      <td>3764</td>\n",
       "    </tr>\n",
       "    <tr>\n",
       "      <th>M/V ACCIDENT - OTHER CITY VEHICLE</th>\n",
       "      <td>910</td>\n",
       "    </tr>\n",
       "    <tr>\n",
       "      <th>M/V ACCIDENT - PERSONAL INJURY</th>\n",
       "      <td>6202</td>\n",
       "    </tr>\n",
       "    <tr>\n",
       "      <th>M/V ACCIDENT - POLICE VEHICLE</th>\n",
       "      <td>961</td>\n",
       "    </tr>\n",
       "    <tr>\n",
       "      <th>M/V ACCIDENT - PROPERTY Â DAMAGE</th>\n",
       "      <td>8246</td>\n",
       "    </tr>\n",
       "    <tr>\n",
       "      <th>M/V ACCIDENT INVOLVING PEDESTRIAN - INJURY</th>\n",
       "      <td>2010</td>\n",
       "    </tr>\n",
       "    <tr>\n",
       "      <th>M/V PLATES - LOST</th>\n",
       "      <td>623</td>\n",
       "    </tr>\n",
       "    <tr>\n",
       "      <th>MISSING PERSON</th>\n",
       "      <td>4442</td>\n",
       "    </tr>\n",
       "    <tr>\n",
       "      <th>MISSING PERSON - LOCATED</th>\n",
       "      <td>5905</td>\n",
       "    </tr>\n",
       "    <tr>\n",
       "      <th>MISSING PERSON - NOT REPORTED - LOCATED</th>\n",
       "      <td>746</td>\n",
       "    </tr>\n",
       "    <tr>\n",
       "      <th>NOISY PARTY/RADIO-ARREST</th>\n",
       "      <td>34</td>\n",
       "    </tr>\n",
       "    <tr>\n",
       "      <th>NOISY PARTY/RADIO-NO ARREST</th>\n",
       "      <td>710</td>\n",
       "    </tr>\n",
       "    <tr>\n",
       "      <th>PRISONER - SUICIDE / SUICIDE ATTEMPT</th>\n",
       "      <td>28</td>\n",
       "    </tr>\n",
       "    <tr>\n",
       "      <th>PROPERTY - ACCIDENTAL DAMAGE</th>\n",
       "      <td>1107</td>\n",
       "    </tr>\n",
       "    <tr>\n",
       "      <th>PROPERTY - FOUND</th>\n",
       "      <td>4551</td>\n",
       "    </tr>\n",
       "    <tr>\n",
       "      <th>PROPERTY - LOST</th>\n",
       "      <td>11269</td>\n",
       "    </tr>\n",
       "    <tr>\n",
       "      <th>PROPERTY - LOST THEN LOCATED</th>\n",
       "      <td>302</td>\n",
       "    </tr>\n",
       "    <tr>\n",
       "      <th>PROPERTY - MISSING</th>\n",
       "      <td>1129</td>\n",
       "    </tr>\n",
       "    <tr>\n",
       "      <th>PROTECTIVE CUSTODY / SAFEKEEPING</th>\n",
       "      <td>30</td>\n",
       "    </tr>\n",
       "    <tr>\n",
       "      <th>REPORT AFFECTING OTHER DEPTS.</th>\n",
       "      <td>195</td>\n",
       "    </tr>\n",
       "    <tr>\n",
       "      <th>SEARCH WARRANT</th>\n",
       "      <td>1248</td>\n",
       "    </tr>\n",
       "    <tr>\n",
       "      <th>SERVICE TO OTHER PD INSIDE OF MA.</th>\n",
       "      <td>3447</td>\n",
       "    </tr>\n",
       "    <tr>\n",
       "      <th>SERVICE TO OTHER PD OUTSIDE OF MA.</th>\n",
       "      <td>237</td>\n",
       "    </tr>\n",
       "    <tr>\n",
       "      <th>SICK/INJURED/MEDICAL - PERSON</th>\n",
       "      <td>24002</td>\n",
       "    </tr>\n",
       "    <tr>\n",
       "      <th>SICK/INJURED/MEDICAL - POLICE</th>\n",
       "      <td>1744</td>\n",
       "    </tr>\n",
       "    <tr>\n",
       "      <th>SUDDEN DEATH</th>\n",
       "      <td>1723</td>\n",
       "    </tr>\n",
       "    <tr>\n",
       "      <th>SUICIDE / SUICIDE ATTEMPT</th>\n",
       "      <td>438</td>\n",
       "    </tr>\n",
       "    <tr>\n",
       "      <th>TOWED MOTOR VEHICLE</th>\n",
       "      <td>13868</td>\n",
       "    </tr>\n",
       "    <tr>\n",
       "      <th>VERBAL DISPUTE</th>\n",
       "      <td>16354</td>\n",
       "    </tr>\n",
       "    <tr>\n",
       "      <th>WARRANT ARREST</th>\n",
       "      <td>10260</td>\n",
       "    </tr>\n",
       "  </tbody>\n",
       "</table>\n",
       "</div>"
      ],
      "text/plain": [
       "                                                 counts\n",
       "OFFENSE_DESCRIPTION                                    \n",
       "AIRCRAFT INCIDENTS                                   52\n",
       "ANIMAL CONTROL - DOG BITES - ETC.                   451\n",
       "ANIMAL INCIDENTS                                    343\n",
       "DANGEROUS OR HAZARDOUS CONDITION                    356\n",
       "DEATH INVESTIGATION                                1480\n",
       "DEMONSTRATIONS/RIOT                                 318\n",
       "EXPLOSIVES - TURNED IN OR FOUND                      16\n",
       "FIRE REPORT - CAR, BRUSH, ETC.                      627\n",
       "FIRE REPORT - HOUSE, BUILDING, ETC.                1533\n",
       "FIREARM/WEAPON - ACCIDENTAL INJURY / DEATH           12\n",
       "FIREARM/WEAPON - FOUND OR CONFISCATED               818\n",
       "FIREARM/WEAPON - LOST                                15\n",
       "GATHERING CAUSING ANNOYANCE                          27\n",
       "HARBOR INCIDENT / VIOLATION                         272\n",
       "INJURY BICYCLE NO M/V INVOLVED                       67\n",
       "INTIMIDATING WITNESS                                372\n",
       "INVESTIGATE PERSON                                23020\n",
       "INVESTIGATE PROPERTY                              13975\n",
       "INVESTIGATION FOR ANOTHER AGENCY                    247\n",
       "LANDLORD - TENANT SERVICE                          1227\n",
       "LICENSE PREMISE VIOLATION                          2141\n",
       "M/V - LEAVING SCENE - PERSONAL INJURY              1576\n",
       "M/V - LEAVING SCENE - PROPERTY DAMAGE             20193\n",
       "M/V ACCIDENT - INVOLVING BICYCLE - NO INJURY        506\n",
       "M/V ACCIDENT - INVOLVING PEDESTRIAN - NO INJURY     536\n",
       "M/V ACCIDENT - INVOLVING Â BICYCLE - INJURY        1080\n",
       "M/V ACCIDENT - OTHER                               3764\n",
       "M/V ACCIDENT - OTHER CITY VEHICLE                   910\n",
       "M/V ACCIDENT - PERSONAL INJURY                     6202\n",
       "M/V ACCIDENT - POLICE VEHICLE                       961\n",
       "M/V ACCIDENT - PROPERTY Â DAMAGE                   8246\n",
       "M/V ACCIDENT INVOLVING PEDESTRIAN - INJURY         2010\n",
       "M/V PLATES - LOST                                   623\n",
       "MISSING PERSON                                     4442\n",
       "MISSING PERSON - LOCATED                           5905\n",
       "MISSING PERSON - NOT REPORTED - LOCATED             746\n",
       "NOISY PARTY/RADIO-ARREST                             34\n",
       "NOISY PARTY/RADIO-NO ARREST                         710\n",
       "PRISONER - SUICIDE / SUICIDE ATTEMPT                 28\n",
       "PROPERTY - ACCIDENTAL DAMAGE                       1107\n",
       "PROPERTY - FOUND                                   4551\n",
       "PROPERTY - LOST                                   11269\n",
       "PROPERTY - LOST THEN LOCATED                        302\n",
       "PROPERTY - MISSING                                 1129\n",
       "PROTECTIVE CUSTODY / SAFEKEEPING                     30\n",
       "REPORT AFFECTING OTHER DEPTS.                       195\n",
       "SEARCH WARRANT                                     1248\n",
       "SERVICE TO OTHER PD INSIDE OF MA.                  3447\n",
       "SERVICE TO OTHER PD OUTSIDE OF MA.                  237\n",
       "SICK/INJURED/MEDICAL - PERSON                     24002\n",
       "SICK/INJURED/MEDICAL - POLICE                      1744\n",
       "SUDDEN DEATH                                       1723\n",
       "SUICIDE / SUICIDE ATTEMPT                           438\n",
       "TOWED MOTOR VEHICLE                               13868\n",
       "VERBAL DISPUTE                                    16354\n",
       "WARRANT ARREST                                    10260"
      ]
     },
     "execution_count": 18,
     "metadata": {},
     "output_type": "execute_result"
    }
   ],
   "source": [
    "df_3d"
   ]
  },
  {
   "cell_type": "markdown",
   "metadata": {},
   "source": [
    "Most of them are non-criminal or unrelated to what we usually think of as \"crimes\".\n",
    "So if we consider serious crime we need to drop or ignore the Part three .\n"
   ]
  },
  {
   "cell_type": "code",
   "execution_count": 19,
   "metadata": {},
   "outputs": [],
   "source": [
    "# analyzing  UCR Others \n",
    "df_other = df.loc[df['UCR_PART'] == 'Other']"
   ]
  },
  {
   "cell_type": "code",
   "execution_count": 20,
   "metadata": {},
   "outputs": [
    {
     "data": {
      "text/html": [
       "<div>\n",
       "<style scoped>\n",
       "    .dataframe tbody tr th:only-of-type {\n",
       "        vertical-align: middle;\n",
       "    }\n",
       "\n",
       "    .dataframe tbody tr th {\n",
       "        vertical-align: top;\n",
       "    }\n",
       "\n",
       "    .dataframe thead th {\n",
       "        text-align: right;\n",
       "    }\n",
       "</style>\n",
       "<table border=\"1\" class=\"dataframe\">\n",
       "  <thead>\n",
       "    <tr style=\"text-align: right;\">\n",
       "      <th></th>\n",
       "      <th>counts</th>\n",
       "    </tr>\n",
       "    <tr>\n",
       "      <th>OFFENSE_DESCRIPTION</th>\n",
       "      <th></th>\n",
       "    </tr>\n",
       "  </thead>\n",
       "  <tbody>\n",
       "    <tr>\n",
       "      <th>ARSON</th>\n",
       "      <td>106</td>\n",
       "    </tr>\n",
       "    <tr>\n",
       "      <th>AUTO THEFT - OUTSIDE - RECOVERED IN BOSTON</th>\n",
       "      <td>1</td>\n",
       "    </tr>\n",
       "    <tr>\n",
       "      <th>B&amp;E NON-RESIDENCE DAY - NO PROP TAKEN</th>\n",
       "      <td>2</td>\n",
       "    </tr>\n",
       "    <tr>\n",
       "      <th>B&amp;E RESIDENCE DAY - NO PROP TAKEN</th>\n",
       "      <td>3</td>\n",
       "    </tr>\n",
       "    <tr>\n",
       "      <th>KILLING OF FELON BY POLICE</th>\n",
       "      <td>1</td>\n",
       "    </tr>\n",
       "    <tr>\n",
       "      <th>MANSLAUGHTER - NON-VEHICLE - NEGLIGENCE</th>\n",
       "      <td>2</td>\n",
       "    </tr>\n",
       "    <tr>\n",
       "      <th>MANSLAUGHTER - VEHICLE - NEGLIGENCE</th>\n",
       "      <td>7</td>\n",
       "    </tr>\n",
       "    <tr>\n",
       "      <th>PROPERTY - CONCEALING LEASED</th>\n",
       "      <td>32</td>\n",
       "    </tr>\n",
       "    <tr>\n",
       "      <th>RECOVERED - MV RECOVERED IN BOSTON (STOLEN OUTSIDE BOSTON)</th>\n",
       "      <td>1278</td>\n",
       "    </tr>\n",
       "    <tr>\n",
       "      <th>RECOVERED STOLEN PLATE</th>\n",
       "      <td>88</td>\n",
       "    </tr>\n",
       "  </tbody>\n",
       "</table>\n",
       "</div>"
      ],
      "text/plain": [
       "                                                    counts\n",
       "OFFENSE_DESCRIPTION                                       \n",
       "ARSON                                                  106\n",
       "AUTO THEFT - OUTSIDE - RECOVERED IN BOSTON               1\n",
       "B&E NON-RESIDENCE DAY - NO PROP TAKEN                    2\n",
       "B&E RESIDENCE DAY - NO PROP TAKEN                        3\n",
       "KILLING OF FELON BY POLICE                               1\n",
       "MANSLAUGHTER - NON-VEHICLE - NEGLIGENCE                  2\n",
       "MANSLAUGHTER - VEHICLE - NEGLIGENCE                      7\n",
       "PROPERTY - CONCEALING LEASED                            32\n",
       "RECOVERED - MV RECOVERED IN BOSTON (STOLEN OUTS...    1278\n",
       "RECOVERED STOLEN PLATE                                  88"
      ]
     },
     "execution_count": 20,
     "metadata": {},
     "output_type": "execute_result"
    }
   ],
   "source": [
    "df_otherd = df_other.groupby('OFFENSE_DESCRIPTION').size().reset_index(name = 'counts').set_index('OFFENSE_DESCRIPTION')\n",
    "df_otherd"
   ]
  },
  {
   "cell_type": "markdown",
   "metadata": {},
   "source": [
    "These are related to Crime, Hence we need to keep this part of data."
   ]
  },
  {
   "cell_type": "code",
   "execution_count": 21,
   "metadata": {},
   "outputs": [
    {
     "data": {
      "text/html": [
       "<div>\n",
       "<style scoped>\n",
       "    .dataframe tbody tr th:only-of-type {\n",
       "        vertical-align: middle;\n",
       "    }\n",
       "\n",
       "    .dataframe tbody tr th {\n",
       "        vertical-align: top;\n",
       "    }\n",
       "\n",
       "    .dataframe thead th {\n",
       "        text-align: right;\n",
       "    }\n",
       "</style>\n",
       "<table border=\"1\" class=\"dataframe\">\n",
       "  <thead>\n",
       "    <tr style=\"text-align: right;\">\n",
       "      <th></th>\n",
       "      <th>counts</th>\n",
       "    </tr>\n",
       "    <tr>\n",
       "      <th>OFFENSE_DESCRIPTION</th>\n",
       "      <th></th>\n",
       "    </tr>\n",
       "  </thead>\n",
       "  <tbody>\n",
       "    <tr>\n",
       "      <th>HOME INVASION</th>\n",
       "      <td>88</td>\n",
       "    </tr>\n",
       "    <tr>\n",
       "      <th>HUMAN TRAFFICKING - COMMERCIAL SEX ACTS</th>\n",
       "      <td>8</td>\n",
       "    </tr>\n",
       "    <tr>\n",
       "      <th>HUMAN TRAFFICKING - INVOLUNTARY SERVITUDE</th>\n",
       "      <td>3</td>\n",
       "    </tr>\n",
       "    <tr>\n",
       "      <th>INVESTIGATE PERSON</th>\n",
       "      <td>5</td>\n",
       "    </tr>\n",
       "  </tbody>\n",
       "</table>\n",
       "</div>"
      ],
      "text/plain": [
       "                                           counts\n",
       "OFFENSE_DESCRIPTION                              \n",
       "HOME INVASION                                  88\n",
       "HUMAN TRAFFICKING - COMMERCIAL SEX ACTS         8\n",
       "HUMAN TRAFFICKING - INVOLUNTARY SERVITUDE       3\n",
       "INVESTIGATE PERSON                              5"
      ]
     },
     "execution_count": 21,
     "metadata": {},
     "output_type": "execute_result"
    }
   ],
   "source": [
    "# checking NULL values of UCR_PART\n",
    "df_ucrnull = df.loc[df['UCR_PART'].isnull()]\n",
    "df_ucrnulld = df_ucrnull.groupby('OFFENSE_DESCRIPTION').size().reset_index(name = 'counts').set_index('OFFENSE_DESCRIPTION')\n",
    "df_ucrnulld"
   ]
  },
  {
   "cell_type": "code",
   "execution_count": 22,
   "metadata": {},
   "outputs": [],
   "source": [
    "#So now we prepared a clean data eliminating non crime data from the dataset\n",
    "df_clean = df.loc[(df['UCR_PART'] != 'Part Three') & (df['OFFENSE_DESCRIPTION'] != 'INVESTIGATE PERSON')]"
   ]
  },
  {
   "cell_type": "code",
   "execution_count": 23,
   "metadata": {},
   "outputs": [
    {
     "data": {
      "text/plain": [
       "(196861, 17)"
      ]
     },
     "execution_count": 23,
     "metadata": {},
     "output_type": "execute_result"
    }
   ],
   "source": [
    "df_clean.shape"
   ]
  },
  {
   "cell_type": "markdown",
   "metadata": {},
   "source": [
    "#### Exploratory Data Analysis"
   ]
  },
  {
   "cell_type": "code",
   "execution_count": 24,
   "metadata": {},
   "outputs": [],
   "source": [
    "#Checking number of Crimes on each day of the Weak\n",
    "df_day = df_clean.groupby('DAY_OF_WEEK').size().reset_index(name = 'counts').set_index('DAY_OF_WEEK')"
   ]
  },
  {
   "cell_type": "code",
   "execution_count": 25,
   "metadata": {},
   "outputs": [
    {
     "data": {
      "text/html": [
       "<div>\n",
       "<style scoped>\n",
       "    .dataframe tbody tr th:only-of-type {\n",
       "        vertical-align: middle;\n",
       "    }\n",
       "\n",
       "    .dataframe tbody tr th {\n",
       "        vertical-align: top;\n",
       "    }\n",
       "\n",
       "    .dataframe thead th {\n",
       "        text-align: right;\n",
       "    }\n",
       "</style>\n",
       "<table border=\"1\" class=\"dataframe\">\n",
       "  <thead>\n",
       "    <tr style=\"text-align: right;\">\n",
       "      <th></th>\n",
       "      <th>counts</th>\n",
       "    </tr>\n",
       "    <tr>\n",
       "      <th>DAY_OF_WEEK</th>\n",
       "      <th></th>\n",
       "    </tr>\n",
       "  </thead>\n",
       "  <tbody>\n",
       "    <tr>\n",
       "      <th>Friday</th>\n",
       "      <td>29857</td>\n",
       "    </tr>\n",
       "    <tr>\n",
       "      <th>Monday</th>\n",
       "      <td>28314</td>\n",
       "    </tr>\n",
       "    <tr>\n",
       "      <th>Saturday</th>\n",
       "      <td>27199</td>\n",
       "    </tr>\n",
       "    <tr>\n",
       "      <th>Sunday</th>\n",
       "      <td>24241</td>\n",
       "    </tr>\n",
       "    <tr>\n",
       "      <th>Thursday</th>\n",
       "      <td>29056</td>\n",
       "    </tr>\n",
       "    <tr>\n",
       "      <th>Tuesday</th>\n",
       "      <td>28848</td>\n",
       "    </tr>\n",
       "    <tr>\n",
       "      <th>Wednesday</th>\n",
       "      <td>29346</td>\n",
       "    </tr>\n",
       "  </tbody>\n",
       "</table>\n",
       "</div>"
      ],
      "text/plain": [
       "             counts\n",
       "DAY_OF_WEEK        \n",
       "Friday        29857\n",
       "Monday        28314\n",
       "Saturday      27199\n",
       "Sunday        24241\n",
       "Thursday      29056\n",
       "Tuesday       28848\n",
       "Wednesday     29346"
      ]
     },
     "execution_count": 25,
     "metadata": {},
     "output_type": "execute_result"
    }
   ],
   "source": [
    "df_day"
   ]
  },
  {
   "cell_type": "markdown",
   "metadata": {},
   "source": [
    "Most of the Crimes occur on Friday"
   ]
  },
  {
   "cell_type": "code",
   "execution_count": 26,
   "metadata": {},
   "outputs": [],
   "source": [
    "df_day.reset_index(inplace = True)"
   ]
  },
  {
   "cell_type": "code",
   "execution_count": 27,
   "metadata": {},
   "outputs": [],
   "source": [
    "df_day['DAY_OF_WEEK'] = pd.Categorical(df_day['DAY_OF_WEEK'], categories = ['Sunday','Monday','Tuesday','Wednesday','Thursday','Friday','Saturday'], ordered = True)"
   ]
  },
  {
   "cell_type": "code",
   "execution_count": 28,
   "metadata": {},
   "outputs": [],
   "source": [
    "df_day.set_index('DAY_OF_WEEK', inplace = True)"
   ]
  },
  {
   "cell_type": "code",
   "execution_count": 29,
   "metadata": {},
   "outputs": [],
   "source": [
    "df_day.sort_values(by = 'DAY_OF_WEEK', inplace = True)"
   ]
  },
  {
   "cell_type": "code",
   "execution_count": 30,
   "metadata": {},
   "outputs": [
    {
     "data": {
      "image/png": "[encoded data removed]",
      "text/plain": [
       "<Figure size 720x504 with 1 Axes>"
      ]
     },
     "metadata": {
      "needs_background": "light"
     },
     "output_type": "display_data"
    }
   ],
   "source": [
    "fig = plt.figure(figsize = (10,7))\n",
    "ax = plt.subplot(111)\n",
    "ind = np.arange(7)\n",
    "crimes_by_day = df_day['counts']\n",
    "rects = ax.bar(ind, crimes_by_day, width = 0.8, color = ['green','olive','olive','olive','olive','red','green'])\n",
    "ax.set_xticks(ind)\n",
    "ax.set_xticklabels(['Sun', 'Mon', 'Tue', 'Wed', 'Thu', 'Fri', 'Sat'])\n",
    "ax.set_title('Crimes in Boston by days of the week')\n",
    "ax.set_ylabel('Amount of crimes')\n",
    "for rect in rects:\n",
    "    height = rect.get_height()\n",
    "    ax.text(rect.get_x() + 0.15, height + 250, height, fontsize = 12)"
   ]
  },
  {
   "cell_type": "code",
   "execution_count": 31,
   "metadata": {},
   "outputs": [
    {
     "data": {
      "text/html": [
       "<div>\n",
       "<style scoped>\n",
       "    .dataframe tbody tr th:only-of-type {\n",
       "        vertical-align: middle;\n",
       "    }\n",
       "\n",
       "    .dataframe tbody tr th {\n",
       "        vertical-align: top;\n",
       "    }\n",
       "\n",
       "    .dataframe thead th {\n",
       "        text-align: right;\n",
       "    }\n",
       "</style>\n",
       "<table border=\"1\" class=\"dataframe\">\n",
       "  <thead>\n",
       "    <tr style=\"text-align: right;\">\n",
       "      <th></th>\n",
       "      <th>unique values</th>\n",
       "    </tr>\n",
       "  </thead>\n",
       "  <tbody>\n",
       "    <tr>\n",
       "      <th>0</th>\n",
       "      <td>2019</td>\n",
       "    </tr>\n",
       "    <tr>\n",
       "      <th>1</th>\n",
       "      <td>2018</td>\n",
       "    </tr>\n",
       "    <tr>\n",
       "      <th>2</th>\n",
       "      <td>2016</td>\n",
       "    </tr>\n",
       "    <tr>\n",
       "      <th>3</th>\n",
       "      <td>2017</td>\n",
       "    </tr>\n",
       "    <tr>\n",
       "      <th>4</th>\n",
       "      <td>2015</td>\n",
       "    </tr>\n",
       "  </tbody>\n",
       "</table>\n",
       "</div>"
      ],
      "text/plain": [
       "   unique values\n",
       "0           2019\n",
       "1           2018\n",
       "2           2016\n",
       "3           2017\n",
       "4           2015"
      ]
     },
     "execution_count": 31,
     "metadata": {},
     "output_type": "execute_result"
    }
   ],
   "source": [
    "# Lets check the number of Crimes each Year\n",
    "YEAR_uni = list(df_clean.YEAR.unique())\n",
    "YEAR_uni_table = pd.DataFrame(YEAR_uni)\n",
    "YEAR_uni_table.columns = ['unique values']\n",
    "YEAR_uni_table"
   ]
  },
  {
   "cell_type": "code",
   "execution_count": 32,
   "metadata": {},
   "outputs": [
    {
     "data": {
      "text/plain": [
       "<matplotlib.axes._subplots.AxesSubplot at 0x1e0cd5876a0>"
      ]
     },
     "execution_count": 32,
     "metadata": {},
     "output_type": "execute_result"
    },
    {
     "data": {
      "image/png": "[encoded data removed]",
      "text/plain": [
       "<Figure size 432x288 with 1 Axes>"
      ]
     },
     "metadata": {
      "needs_background": "light"
     },
     "output_type": "display_data"
    }
   ],
   "source": [
    "# Total number of Crimes recorded each year\n",
    "sns.countplot (x=\"YEAR\" , data =df_clean ,order = df['YEAR'].value_counts().index, palette = \"Set3\")"
   ]
  },
  {
   "cell_type": "code",
   "execution_count": 33,
   "metadata": {},
   "outputs": [
    {
     "data": {
      "image/png": "[encoded data removed]",
      "text/plain": [
       "<Figure size 432x288 with 1 Axes>"
      ]
     },
     "metadata": {},
     "output_type": "display_data"
    }
   ],
   "source": [
    "# Percentage of crime in year wise\n",
    "labels = df_clean['YEAR'].astype('category').cat.categories.tolist()\n",
    "counts = df_clean['YEAR'].value_counts()\n",
    "sizes = [counts[var_cat] for var_cat in labels]\n",
    "fig1, ax1 = plt.subplots()\n",
    "ax1.pie(sizes, labels=labels,  autopct='%1.1f%%',shadow=True) \n",
    "ax1.axis('equal')\n",
    "plt.show()"
   ]
  },
  {
   "cell_type": "markdown",
   "metadata": {},
   "source": [
    "Checking the Crimes in Each month from 2016 to year 2018 as it has an entire years data, eliminating 2015 and 2019 as it has incomplete data\n"
   ]
  },
  {
   "cell_type": "code",
   "execution_count": 34,
   "metadata": {},
   "outputs": [],
   "source": [
    "df_1618 = df_clean.loc[(df_clean['YEAR'] > 2015) & (df_clean['YEAR'] < 2019)]"
   ]
  },
  {
   "cell_type": "code",
   "execution_count": 35,
   "metadata": {},
   "outputs": [
    {
     "data": {
      "text/plain": [
       "(146810, 17)"
      ]
     },
     "execution_count": 35,
     "metadata": {},
     "output_type": "execute_result"
    }
   ],
   "source": [
    "df_1618.shape"
   ]
  },
  {
   "cell_type": "code",
   "execution_count": 36,
   "metadata": {},
   "outputs": [],
   "source": [
    "df_month = df_1618.groupby('MONTH').size().reset_index(name = 'counts').set_index('MONTH')"
   ]
  },
  {
   "cell_type": "code",
   "execution_count": 37,
   "metadata": {},
   "outputs": [
    {
     "data": {
      "text/html": [
       "<div>\n",
       "<style scoped>\n",
       "    .dataframe tbody tr th:only-of-type {\n",
       "        vertical-align: middle;\n",
       "    }\n",
       "\n",
       "    .dataframe tbody tr th {\n",
       "        vertical-align: top;\n",
       "    }\n",
       "\n",
       "    .dataframe thead th {\n",
       "        text-align: right;\n",
       "    }\n",
       "</style>\n",
       "<table border=\"1\" class=\"dataframe\">\n",
       "  <thead>\n",
       "    <tr style=\"text-align: right;\">\n",
       "      <th></th>\n",
       "      <th>counts</th>\n",
       "    </tr>\n",
       "    <tr>\n",
       "      <th>MONTH</th>\n",
       "      <th></th>\n",
       "    </tr>\n",
       "  </thead>\n",
       "  <tbody>\n",
       "    <tr>\n",
       "      <th>1</th>\n",
       "      <td>11953</td>\n",
       "    </tr>\n",
       "    <tr>\n",
       "      <th>2</th>\n",
       "      <td>10779</td>\n",
       "    </tr>\n",
       "    <tr>\n",
       "      <th>3</th>\n",
       "      <td>11772</td>\n",
       "    </tr>\n",
       "    <tr>\n",
       "      <th>4</th>\n",
       "      <td>12015</td>\n",
       "    </tr>\n",
       "    <tr>\n",
       "      <th>5</th>\n",
       "      <td>12968</td>\n",
       "    </tr>\n",
       "    <tr>\n",
       "      <th>6</th>\n",
       "      <td>13060</td>\n",
       "    </tr>\n",
       "    <tr>\n",
       "      <th>7</th>\n",
       "      <td>13214</td>\n",
       "    </tr>\n",
       "    <tr>\n",
       "      <th>8</th>\n",
       "      <td>13373</td>\n",
       "    </tr>\n",
       "    <tr>\n",
       "      <th>9</th>\n",
       "      <td>12677</td>\n",
       "    </tr>\n",
       "    <tr>\n",
       "      <th>10</th>\n",
       "      <td>12642</td>\n",
       "    </tr>\n",
       "    <tr>\n",
       "      <th>11</th>\n",
       "      <td>11384</td>\n",
       "    </tr>\n",
       "    <tr>\n",
       "      <th>12</th>\n",
       "      <td>10973</td>\n",
       "    </tr>\n",
       "  </tbody>\n",
       "</table>\n",
       "</div>"
      ],
      "text/plain": [
       "       counts\n",
       "MONTH        \n",
       "1       11953\n",
       "2       10779\n",
       "3       11772\n",
       "4       12015\n",
       "5       12968\n",
       "6       13060\n",
       "7       13214\n",
       "8       13373\n",
       "9       12677\n",
       "10      12642\n",
       "11      11384\n",
       "12      10973"
      ]
     },
     "execution_count": 37,
     "metadata": {},
     "output_type": "execute_result"
    }
   ],
   "source": [
    "df_month"
   ]
  },
  {
   "cell_type": "code",
   "execution_count": 38,
   "metadata": {},
   "outputs": [
    {
     "data": {
      "image/png": "[encoded data removed]",
      "text/plain": [
       "<Figure size 720x504 with 1 Axes>"
      ]
     },
     "metadata": {
      "needs_background": "light"
     },
     "output_type": "display_data"
    }
   ],
   "source": [
    "#Plotting Each months crime data from 2016 - 2018\n",
    "fig3 = plt.figure(figsize = (10,7))\n",
    "ind3 = np.arange(12)\n",
    "ax3 = plt.subplot(111)\n",
    "rects = ax3.bar(ind3, df_month['counts'], width = 0.8,color = ['yellow','lime','yellow','yellow','red','red','red','darkred','orange','orange','green','green'])\n",
    "ax3.set_xticks(ind3)\n",
    "ax3.set_xticklabels(['Jan','Feb','Mar','Apr','May','Jun','Jul','Aug','Sep','Oct','Nov','Dec'])\n",
    "ax3.set_xlabel('Month')\n",
    "ax3.set_ylabel('Amount of crimes')\n",
    "ax3.set_title('Crimes in Boston by month')\n",
    "for rect in rects:\n",
    "    height = rect.get_height()\n",
    "    ax3.text(rect.get_x() - 0.13, height + 150, height, fontsize = 14)"
   ]
  },
  {
   "cell_type": "markdown",
   "metadata": {},
   "source": [
    "The number of Crime increases in the Summer season and decreases in the Winter."
   ]
  },
  {
   "cell_type": "markdown",
   "metadata": {},
   "source": [
    "To be more precise to see if the crime occured in Day or Night we shall map the crime data with boston month day and night time and mark each rows with a the Day and Night category \n",
    "Link\n",
    "https://www.timeanddate.com/sun/usa/boston"
   ]
  },
  {
   "cell_type": "code",
   "execution_count": 39,
   "metadata": {},
   "outputs": [
    {
     "name": "stderr",
     "output_type": "stream",
     "text": [
      "C:\\Users\\Jigar\\Anaconda3\\lib\\site-packages\\ipykernel_launcher.py:1: SettingWithCopyWarning: \n",
      "A value is trying to be set on a copy of a slice from a DataFrame.\n",
      "Try using .loc[row_indexer,col_indexer] = value instead\n",
      "\n",
      "See the caveats in the documentation: http://pandas.pydata.org/pandas-docs/stable/indexing.html#indexing-view-versus-copy\n",
      "  \"\"\"Entry point for launching an IPython kernel.\n",
      "C:\\Users\\Jigar\\Anaconda3\\lib\\site-packages\\ipykernel_launcher.py:2: SettingWithCopyWarning: \n",
      "A value is trying to be set on a copy of a slice from a DataFrame.\n",
      "Try using .loc[row_indexer,col_indexer] = value instead\n",
      "\n",
      "See the caveats in the documentation: http://pandas.pydata.org/pandas-docs/stable/indexing.html#indexing-view-versus-copy\n",
      "  \n"
     ]
    }
   ],
   "source": [
    "df_clean['Day'] = 0\n",
    "df_clean['Night'] = 0"
   ]
  },
  {
   "cell_type": "code",
   "execution_count": 40,
   "metadata": {},
   "outputs": [
    {
     "data": {
      "text/html": [
       "<div>\n",
       "<style scoped>\n",
       "    .dataframe tbody tr th:only-of-type {\n",
       "        vertical-align: middle;\n",
       "    }\n",
       "\n",
       "    .dataframe tbody tr th {\n",
       "        vertical-align: top;\n",
       "    }\n",
       "\n",
       "    .dataframe thead th {\n",
       "        text-align: right;\n",
       "    }\n",
       "</style>\n",
       "<table border=\"1\" class=\"dataframe\">\n",
       "  <thead>\n",
       "    <tr style=\"text-align: right;\">\n",
       "      <th></th>\n",
       "      <th>INCIDENT_NUMBER</th>\n",
       "      <th>OFFENSE_CODE</th>\n",
       "      <th>OFFENSE_CODE_GROUP</th>\n",
       "      <th>OFFENSE_DESCRIPTION</th>\n",
       "      <th>DISTRICT</th>\n",
       "      <th>REPORTING_AREA</th>\n",
       "      <th>SHOOTING</th>\n",
       "      <th>OCCURRED_ON_DATE</th>\n",
       "      <th>YEAR</th>\n",
       "      <th>MONTH</th>\n",
       "      <th>DAY_OF_WEEK</th>\n",
       "      <th>HOUR</th>\n",
       "      <th>UCR_PART</th>\n",
       "      <th>STREET</th>\n",
       "      <th>Lat</th>\n",
       "      <th>Long</th>\n",
       "      <th>Location</th>\n",
       "      <th>Day</th>\n",
       "      <th>Night</th>\n",
       "    </tr>\n",
       "  </thead>\n",
       "  <tbody>\n",
       "    <tr>\n",
       "      <th>5</th>\n",
       "      <td>I192044948</td>\n",
       "      <td>522</td>\n",
       "      <td>Residential Burglary</td>\n",
       "      <td>BURGLARY - RESIDENTIAL - NO FORCE</td>\n",
       "      <td>C6</td>\n",
       "      <td>220</td>\n",
       "      <td>N</td>\n",
       "      <td>2019-06-05 02:20:00</td>\n",
       "      <td>2019</td>\n",
       "      <td>6</td>\n",
       "      <td>Wednesday</td>\n",
       "      <td>2</td>\n",
       "      <td>Part One</td>\n",
       "      <td>NATIONAL ST</td>\n",
       "      <td>42.334164</td>\n",
       "      <td>-71.046693</td>\n",
       "      <td>(42.33416417, -71.04669326)</td>\n",
       "      <td>0</td>\n",
       "      <td>0</td>\n",
       "    </tr>\n",
       "    <tr>\n",
       "      <th>6</th>\n",
       "      <td>I192044947</td>\n",
       "      <td>2647</td>\n",
       "      <td>Other</td>\n",
       "      <td>THREATS TO DO BODILY HARM</td>\n",
       "      <td>B2</td>\n",
       "      <td>183</td>\n",
       "      <td>N</td>\n",
       "      <td>2019-06-13 19:57:00</td>\n",
       "      <td>2019</td>\n",
       "      <td>6</td>\n",
       "      <td>Thursday</td>\n",
       "      <td>19</td>\n",
       "      <td>Part Two</td>\n",
       "      <td>LEYLAND ST</td>\n",
       "      <td>42.320661</td>\n",
       "      <td>-71.070679</td>\n",
       "      <td>(42.32066147, -71.07067867)</td>\n",
       "      <td>0</td>\n",
       "      <td>0</td>\n",
       "    </tr>\n",
       "    <tr>\n",
       "      <th>9</th>\n",
       "      <td>I192044943</td>\n",
       "      <td>301</td>\n",
       "      <td>Robbery</td>\n",
       "      <td>ROBBERY - STREET</td>\n",
       "      <td>C6</td>\n",
       "      <td>177</td>\n",
       "      <td>N</td>\n",
       "      <td>2019-06-12 23:30:00</td>\n",
       "      <td>2019</td>\n",
       "      <td>6</td>\n",
       "      <td>Wednesday</td>\n",
       "      <td>23</td>\n",
       "      <td>Part One</td>\n",
       "      <td>SOUTHAMPTON ST</td>\n",
       "      <td>42.331819</td>\n",
       "      <td>-71.068682</td>\n",
       "      <td>(42.33181880, -71.06868237)</td>\n",
       "      <td>0</td>\n",
       "      <td>0</td>\n",
       "    </tr>\n",
       "    <tr>\n",
       "      <th>11</th>\n",
       "      <td>I192044940</td>\n",
       "      <td>1874</td>\n",
       "      <td>Drug Violation</td>\n",
       "      <td>DRUGS - OTHER</td>\n",
       "      <td>B2</td>\n",
       "      <td>282</td>\n",
       "      <td>N</td>\n",
       "      <td>2019-06-13 20:39:00</td>\n",
       "      <td>2019</td>\n",
       "      <td>6</td>\n",
       "      <td>Thursday</td>\n",
       "      <td>20</td>\n",
       "      <td>Part Two</td>\n",
       "      <td>WASHINGTON ST</td>\n",
       "      <td>42.328663</td>\n",
       "      <td>-71.085634</td>\n",
       "      <td>(42.32866284, -71.08563401)</td>\n",
       "      <td>0</td>\n",
       "      <td>0</td>\n",
       "    </tr>\n",
       "    <tr>\n",
       "      <th>12</th>\n",
       "      <td>I192044939</td>\n",
       "      <td>724</td>\n",
       "      <td>Auto Theft</td>\n",
       "      <td>AUTO THEFT</td>\n",
       "      <td>E13</td>\n",
       "      <td>581</td>\n",
       "      <td>N</td>\n",
       "      <td>2019-06-13 07:30:00</td>\n",
       "      <td>2019</td>\n",
       "      <td>6</td>\n",
       "      <td>Thursday</td>\n",
       "      <td>7</td>\n",
       "      <td>Part One</td>\n",
       "      <td>BICKFORD ST</td>\n",
       "      <td>NaN</td>\n",
       "      <td>NaN</td>\n",
       "      <td>(0.00000000, 0.00000000)</td>\n",
       "      <td>0</td>\n",
       "      <td>0</td>\n",
       "    </tr>\n",
       "  </tbody>\n",
       "</table>\n",
       "</div>"
      ],
      "text/plain": [
       "   INCIDENT_NUMBER  OFFENSE_CODE    OFFENSE_CODE_GROUP  \\\n",
       "5       I192044948           522  Residential Burglary   \n",
       "6       I192044947          2647                 Other   \n",
       "9       I192044943           301               Robbery   \n",
       "11      I192044940          1874        Drug Violation   \n",
       "12      I192044939           724            Auto Theft   \n",
       "\n",
       "                  OFFENSE_DESCRIPTION DISTRICT REPORTING_AREA SHOOTING  \\\n",
       "5   BURGLARY - RESIDENTIAL - NO FORCE       C6            220        N   \n",
       "6           THREATS TO DO BODILY HARM       B2            183        N   \n",
       "9                    ROBBERY - STREET       C6            177        N   \n",
       "11                      DRUGS - OTHER       B2            282        N   \n",
       "12                         AUTO THEFT      E13            581        N   \n",
       "\n",
       "      OCCURRED_ON_DATE  YEAR  MONTH DAY_OF_WEEK  HOUR  UCR_PART  \\\n",
       "5  2019-06-05 02:20:00  2019      6   Wednesday     2  Part One   \n",
       "6  2019-06-13 19:57:00  2019      6    Thursday    19  Part Two   \n",
       "9  2019-06-12 23:30:00  2019      6   Wednesday    23  Part One   \n",
       "11 2019-06-13 20:39:00  2019      6    Thursday    20  Part Two   \n",
       "12 2019-06-13 07:30:00  2019      6    Thursday     7  Part One   \n",
       "\n",
       "            STREET        Lat       Long                     Location  Day  \\\n",
       "5      NATIONAL ST  42.334164 -71.046693  (42.33416417, -71.04669326)    0   \n",
       "6       LEYLAND ST  42.320661 -71.070679  (42.32066147, -71.07067867)    0   \n",
       "9   SOUTHAMPTON ST  42.331819 -71.068682  (42.33181880, -71.06868237)    0   \n",
       "11   WASHINGTON ST  42.328663 -71.085634  (42.32866284, -71.08563401)    0   \n",
       "12     BICKFORD ST        NaN        NaN     (0.00000000, 0.00000000)    0   \n",
       "\n",
       "    Night  \n",
       "5       0  \n",
       "6       0  \n",
       "9       0  \n",
       "11      0  \n",
       "12      0  "
      ]
     },
     "execution_count": 40,
     "metadata": {},
     "output_type": "execute_result"
    }
   ],
   "source": [
    "df_clean.head()"
   ]
  },
  {
   "cell_type": "code",
   "execution_count": 41,
   "metadata": {},
   "outputs": [
    {
     "name": "stderr",
     "output_type": "stream",
     "text": [
      "C:\\Users\\Jigar\\Anaconda3\\lib\\site-packages\\pandas\\core\\indexing.py:190: SettingWithCopyWarning: \n",
      "A value is trying to be set on a copy of a slice from a DataFrame\n",
      "\n",
      "See the caveats in the documentation: http://pandas.pydata.org/pandas-docs/stable/indexing.html#indexing-view-versus-copy\n",
      "  self._setitem_with_indexer(indexer, value)\n",
      "C:\\Users\\Jigar\\Anaconda3\\lib\\site-packages\\ipykernel_launcher.py:2: SettingWithCopyWarning: \n",
      "A value is trying to be set on a copy of a slice from a DataFrame\n",
      "\n",
      "See the caveats in the documentation: http://pandas.pydata.org/pandas-docs/stable/indexing.html#indexing-view-versus-copy\n",
      "  \n",
      "C:\\Users\\Jigar\\Anaconda3\\lib\\site-packages\\ipykernel_launcher.py:5: SettingWithCopyWarning: \n",
      "A value is trying to be set on a copy of a slice from a DataFrame\n",
      "\n",
      "See the caveats in the documentation: http://pandas.pydata.org/pandas-docs/stable/indexing.html#indexing-view-versus-copy\n",
      "  \"\"\"\n",
      "C:\\Users\\Jigar\\Anaconda3\\lib\\site-packages\\ipykernel_launcher.py:8: SettingWithCopyWarning: \n",
      "A value is trying to be set on a copy of a slice from a DataFrame\n",
      "\n",
      "See the caveats in the documentation: http://pandas.pydata.org/pandas-docs/stable/indexing.html#indexing-view-versus-copy\n",
      "  \n",
      "C:\\Users\\Jigar\\Anaconda3\\lib\\site-packages\\ipykernel_launcher.py:11: SettingWithCopyWarning: \n",
      "A value is trying to be set on a copy of a slice from a DataFrame\n",
      "\n",
      "See the caveats in the documentation: http://pandas.pydata.org/pandas-docs/stable/indexing.html#indexing-view-versus-copy\n",
      "  # This is added back by InteractiveShellApp.init_path()\n",
      "C:\\Users\\Jigar\\Anaconda3\\lib\\site-packages\\ipykernel_launcher.py:14: SettingWithCopyWarning: \n",
      "A value is trying to be set on a copy of a slice from a DataFrame\n",
      "\n",
      "See the caveats in the documentation: http://pandas.pydata.org/pandas-docs/stable/indexing.html#indexing-view-versus-copy\n",
      "  \n",
      "C:\\Users\\Jigar\\Anaconda3\\lib\\site-packages\\ipykernel_launcher.py:17: SettingWithCopyWarning: \n",
      "A value is trying to be set on a copy of a slice from a DataFrame\n",
      "\n",
      "See the caveats in the documentation: http://pandas.pydata.org/pandas-docs/stable/indexing.html#indexing-view-versus-copy\n",
      "C:\\Users\\Jigar\\Anaconda3\\lib\\site-packages\\ipykernel_launcher.py:20: SettingWithCopyWarning: \n",
      "A value is trying to be set on a copy of a slice from a DataFrame\n",
      "\n",
      "See the caveats in the documentation: http://pandas.pydata.org/pandas-docs/stable/indexing.html#indexing-view-versus-copy\n",
      "C:\\Users\\Jigar\\Anaconda3\\lib\\site-packages\\ipykernel_launcher.py:23: SettingWithCopyWarning: \n",
      "A value is trying to be set on a copy of a slice from a DataFrame\n",
      "\n",
      "See the caveats in the documentation: http://pandas.pydata.org/pandas-docs/stable/indexing.html#indexing-view-versus-copy\n",
      "C:\\Users\\Jigar\\Anaconda3\\lib\\site-packages\\ipykernel_launcher.py:26: SettingWithCopyWarning: \n",
      "A value is trying to be set on a copy of a slice from a DataFrame\n",
      "\n",
      "See the caveats in the documentation: http://pandas.pydata.org/pandas-docs/stable/indexing.html#indexing-view-versus-copy\n",
      "C:\\Users\\Jigar\\Anaconda3\\lib\\site-packages\\ipykernel_launcher.py:29: SettingWithCopyWarning: \n",
      "A value is trying to be set on a copy of a slice from a DataFrame\n",
      "\n",
      "See the caveats in the documentation: http://pandas.pydata.org/pandas-docs/stable/indexing.html#indexing-view-versus-copy\n",
      "C:\\Users\\Jigar\\Anaconda3\\lib\\site-packages\\ipykernel_launcher.py:32: SettingWithCopyWarning: \n",
      "A value is trying to be set on a copy of a slice from a DataFrame\n",
      "\n",
      "See the caveats in the documentation: http://pandas.pydata.org/pandas-docs/stable/indexing.html#indexing-view-versus-copy\n",
      "C:\\Users\\Jigar\\Anaconda3\\lib\\site-packages\\ipykernel_launcher.py:35: SettingWithCopyWarning: \n",
      "A value is trying to be set on a copy of a slice from a DataFrame\n",
      "\n",
      "See the caveats in the documentation: http://pandas.pydata.org/pandas-docs/stable/indexing.html#indexing-view-versus-copy\n"
     ]
    }
   ],
   "source": [
    "# Day or night for 1st month\n",
    "df_clean['Day'].loc[(df_clean['MONTH'] == 1) & (df_clean['HOUR'] >= 6) & (df_clean['HOUR'] <= 18)] = 1\n",
    "\n",
    "# Day or night for 2st month\n",
    "df_clean['Day'].loc[(df_clean['MONTH'] == 2) & (df_clean['HOUR'] >= 6) & (df_clean['HOUR'] <= 19)] = 1\n",
    "\n",
    "# for 3st month\n",
    "df_clean['Day'].loc[(df_clean['MONTH'] == 3) & (df_clean['HOUR'] >= 6) & (df_clean['HOUR'] <= 20)] = 1\n",
    "\n",
    "# Day or night for 4st month\n",
    "df_clean['Day'].loc[(df_clean['MONTH'] == 4) & (df_clean['HOUR'] >= 5) & (df_clean['HOUR'] <= 20)] = 1\n",
    "\n",
    "# Day or night for 5st month\n",
    "df_clean['Day'].loc[(df_clean['MONTH'] == 5) & (df_clean['HOUR'] >= 5) & (df_clean['HOUR'] <= 21)] = 1\n",
    "\n",
    "# Day or night for 6st month\n",
    "df_clean['Day'].loc[(df_clean['MONTH'] == 6) & (df_clean['HOUR'] >= 4) & (df_clean['HOUR'] <= 21)] = 1\n",
    "\n",
    "# Day or night for 7st month\n",
    "df_clean['Day'].loc[(df_clean['MONTH'] == 7) & (df_clean['HOUR'] >= 5) & (df_clean['HOUR'] <= 21)] = 1\n",
    "\n",
    "# Day or night for 8st month\n",
    "df_clean['Day'].loc[(df_clean['MONTH'] == 8) & (df_clean['HOUR'] >= 5) & (df_clean['HOUR'] <= 21)] = 1\n",
    "\n",
    "# Day or night for 9st month\n",
    "df_clean['Day'].loc[(df_clean['MONTH'] == 9) & (df_clean['HOUR'] >= 6) & (df_clean['HOUR'] <= 20)] = 1\n",
    "\n",
    "# Day or night for 10st month\n",
    "df_clean['Day'].loc[(df_clean['MONTH'] == 10) & (df_clean['HOUR'] >= 6) & (df_clean['HOUR'] <= 19)] = 1\n",
    "\n",
    "# Day or night for 11st month\n",
    "df_clean['Day'].loc[(df_clean['MONTH'] == 11) & (df_clean['HOUR'] >= 6) & (df_clean['HOUR'] <= 17)] = 1\n",
    "\n",
    "# Day or night for 12st month\n",
    "df_clean['Day'].loc[(df_clean['MONTH'] == 12) & (df_clean['HOUR'] >= 7) & (df_clean['HOUR'] <= 17)] = 1"
   ]
  },
  {
   "cell_type": "code",
   "execution_count": 42,
   "metadata": {},
   "outputs": [
    {
     "name": "stderr",
     "output_type": "stream",
     "text": [
      "C:\\Users\\Jigar\\Anaconda3\\lib\\site-packages\\ipykernel_launcher.py:1: SettingWithCopyWarning: \n",
      "A value is trying to be set on a copy of a slice from a DataFrame\n",
      "\n",
      "See the caveats in the documentation: http://pandas.pydata.org/pandas-docs/stable/indexing.html#indexing-view-versus-copy\n",
      "  \"\"\"Entry point for launching an IPython kernel.\n"
     ]
    }
   ],
   "source": [
    "df_clean['Night'].loc[df_clean['Day']==0]=1"
   ]
  },
  {
   "cell_type": "code",
   "execution_count": 43,
   "metadata": {},
   "outputs": [
    {
     "data": {
      "image/png": "[encoded data removed]",
      "text/plain": [
       "<Figure size 1152x576 with 1 Axes>"
      ]
     },
     "metadata": {
      "needs_background": "light"
     },
     "output_type": "display_data"
    }
   ],
   "source": [
    "plt.figure(figsize=(16,8))\n",
    "df_clean['Night'].value_counts().plot.bar()\n",
    "plt.show()"
   ]
  },
  {
   "cell_type": "code",
   "execution_count": 44,
   "metadata": {},
   "outputs": [
    {
     "data": {
      "text/html": [
       "<div>\n",
       "<style scoped>\n",
       "    .dataframe tbody tr th:only-of-type {\n",
       "        vertical-align: middle;\n",
       "    }\n",
       "\n",
       "    .dataframe tbody tr th {\n",
       "        vertical-align: top;\n",
       "    }\n",
       "\n",
       "    .dataframe thead th {\n",
       "        text-align: right;\n",
       "    }\n",
       "</style>\n",
       "<table border=\"1\" class=\"dataframe\">\n",
       "  <thead>\n",
       "    <tr style=\"text-align: right;\">\n",
       "      <th></th>\n",
       "      <th>unique values</th>\n",
       "    </tr>\n",
       "  </thead>\n",
       "  <tbody>\n",
       "    <tr>\n",
       "      <th>0</th>\n",
       "      <td>C6</td>\n",
       "    </tr>\n",
       "    <tr>\n",
       "      <th>1</th>\n",
       "      <td>B2</td>\n",
       "    </tr>\n",
       "    <tr>\n",
       "      <th>2</th>\n",
       "      <td>E13</td>\n",
       "    </tr>\n",
       "    <tr>\n",
       "      <th>3</th>\n",
       "      <td>A15</td>\n",
       "    </tr>\n",
       "    <tr>\n",
       "      <th>4</th>\n",
       "      <td>C11</td>\n",
       "    </tr>\n",
       "    <tr>\n",
       "      <th>5</th>\n",
       "      <td>NaN</td>\n",
       "    </tr>\n",
       "    <tr>\n",
       "      <th>6</th>\n",
       "      <td>D4</td>\n",
       "    </tr>\n",
       "    <tr>\n",
       "      <th>7</th>\n",
       "      <td>E5</td>\n",
       "    </tr>\n",
       "    <tr>\n",
       "      <th>8</th>\n",
       "      <td>D14</td>\n",
       "    </tr>\n",
       "    <tr>\n",
       "      <th>9</th>\n",
       "      <td>A1</td>\n",
       "    </tr>\n",
       "    <tr>\n",
       "      <th>10</th>\n",
       "      <td>A7</td>\n",
       "    </tr>\n",
       "    <tr>\n",
       "      <th>11</th>\n",
       "      <td>B3</td>\n",
       "    </tr>\n",
       "    <tr>\n",
       "      <th>12</th>\n",
       "      <td>E18</td>\n",
       "    </tr>\n",
       "  </tbody>\n",
       "</table>\n",
       "</div>"
      ],
      "text/plain": [
       "   unique values\n",
       "0             C6\n",
       "1             B2\n",
       "2            E13\n",
       "3            A15\n",
       "4            C11\n",
       "5            NaN\n",
       "6             D4\n",
       "7             E5\n",
       "8            D14\n",
       "9             A1\n",
       "10            A7\n",
       "11            B3\n",
       "12           E18"
      ]
     },
     "execution_count": 44,
     "metadata": {},
     "output_type": "execute_result"
    }
   ],
   "source": [
    "#checking unique values District Columns \n",
    "DISTRICT_uni = list(df_clean.DISTRICT.unique())\n",
    "DISTRICT_uni_table = pd.DataFrame(DISTRICT_uni)\n",
    "DISTRICT_uni_table.columns = ['unique values']\n",
    "DISTRICT_uni_table"
   ]
  },
  {
   "cell_type": "markdown",
   "metadata": {},
   "source": [
    "From the above plot we can see that crime has been increasing from 2015 to 2018, 2017 recording most number of crimes"
   ]
  },
  {
   "cell_type": "code",
   "execution_count": 45,
   "metadata": {},
   "outputs": [
    {
     "data": {
      "image/png": "[encoded data removed]",
      "text/plain": [
       "<Figure size 720x360 with 1 Axes>"
      ]
     },
     "metadata": {
      "needs_background": "light"
     },
     "output_type": "display_data"
    }
   ],
   "source": [
    "# PLOTING TOTAL NUMBER OF CRIMES IN EACH DISTRICT\n",
    "plt.figure(figsize=(10,5))\n",
    "df_clean['DISTRICT'].value_counts().plot.bar()\n",
    "plt.show()"
   ]
  },
  {
   "cell_type": "markdown",
   "metadata": {},
   "source": [
    "From the above plot we can see that District B2 has most number of crimes that have been recorded from 2015 to 2018"
   ]
  },
  {
   "cell_type": "code",
   "execution_count": 46,
   "metadata": {},
   "outputs": [
    {
     "data": {
      "image/png": "[encoded data removed]",
      "text/plain": [
       "<Figure size 432x216 with 1 Axes>"
      ]
     },
     "metadata": {
      "needs_background": "light"
     },
     "output_type": "display_data"
    },
    {
     "data": {
      "image/png": "[encoded data removed]",
      "text/plain": [
       "<Figure size 432x216 with 1 Axes>"
      ]
     },
     "metadata": {
      "needs_background": "light"
     },
     "output_type": "display_data"
    },
    {
     "data": {
      "image/png": "[encoded data removed]",
      "text/plain": [
       "<Figure size 432x216 with 1 Axes>"
      ]
     },
     "metadata": {
      "needs_background": "light"
     },
     "output_type": "display_data"
    },
    {
     "data": {
      "image/png": "[encoded data removed]",
      "text/plain": [
       "<Figure size 432x216 with 1 Axes>"
      ]
     },
     "metadata": {
      "needs_background": "light"
     },
     "output_type": "display_data"
    }
   ],
   "source": [
    "#plotting bar graph to identify crimes in each District in each year since 2015 to 2019\n",
    "# 2015\n",
    "plt.figure(figsize=(6,3))\n",
    "df_clean['DISTRICT'].loc[df_clean['YEAR']==2015].value_counts().plot.bar()\n",
    "plt.show()\n",
    "\n",
    "# 2016\n",
    "plt.figure(figsize=(6,3))\n",
    "df_clean['DISTRICT'].loc[df_clean['YEAR']==2016].value_counts().plot.bar()\n",
    "plt.show()\n",
    "\n",
    "# 2017\n",
    "plt.figure(figsize=(6,3))\n",
    "df_clean['DISTRICT'].loc[df_clean['YEAR']==2017].value_counts().plot.bar()\n",
    "plt.show()\n",
    "\n",
    "# 2018\n",
    "plt.figure(figsize=(6,3))\n",
    "df_clean['DISTRICT'].loc[df_clean['YEAR']==2018].value_counts().plot.bar()\n",
    "plt.show()\n"
   ]
  },
  {
   "cell_type": "markdown",
   "metadata": {},
   "source": [
    "From the above plots we can clearly see that the trend of crimes has been constant in each District from 2015 to 2018, (Didn't consider 2019 as it only has few months of data)"
   ]
  },
  {
   "cell_type": "code",
   "execution_count": 47,
   "metadata": {},
   "outputs": [
    {
     "data": {
      "text/plain": [
       "<matplotlib.legend.Legend at 0x1e0d882bba8>"
      ]
     },
     "execution_count": 47,
     "metadata": {},
     "output_type": "execute_result"
    },
    {
     "data": {
      "image/png": "[encoded data removed]",
      "text/plain": [
       "<Figure size 432x288 with 1 Axes>"
      ]
     },
     "metadata": {
      "needs_background": "light"
     },
     "output_type": "display_data"
    }
   ],
   "source": [
    "#ploting Districts using the Lat and Long\n",
    "sns.scatterplot(x='Lat',y='Long',hue='DISTRICT',alpha=0.02,data=df_clean)\n",
    "plt.legend(bbox_to_anchor=(1.05, 1), loc=2)"
   ]
  },
  {
   "cell_type": "code",
   "execution_count": 48,
   "metadata": {
    "scrolled": true
   },
   "outputs": [
    {
     "data": {
      "text/html": [
       "<div>\n",
       "<style scoped>\n",
       "    .dataframe tbody tr th:only-of-type {\n",
       "        vertical-align: middle;\n",
       "    }\n",
       "\n",
       "    .dataframe tbody tr th {\n",
       "        vertical-align: top;\n",
       "    }\n",
       "\n",
       "    .dataframe thead th {\n",
       "        text-align: right;\n",
       "    }\n",
       "</style>\n",
       "<table border=\"1\" class=\"dataframe\">\n",
       "  <thead>\n",
       "    <tr style=\"text-align: right;\">\n",
       "      <th></th>\n",
       "      <th>INCIDENT_NUMBER</th>\n",
       "      <th>OFFENSE_CODE</th>\n",
       "      <th>OFFENSE_CODE_GROUP</th>\n",
       "      <th>OFFENSE_DESCRIPTION</th>\n",
       "      <th>DISTRICT</th>\n",
       "      <th>REPORTING_AREA</th>\n",
       "      <th>SHOOTING</th>\n",
       "      <th>OCCURRED_ON_DATE</th>\n",
       "      <th>YEAR</th>\n",
       "      <th>MONTH</th>\n",
       "      <th>DAY_OF_WEEK</th>\n",
       "      <th>HOUR</th>\n",
       "      <th>UCR_PART</th>\n",
       "      <th>STREET</th>\n",
       "      <th>Lat</th>\n",
       "      <th>Long</th>\n",
       "      <th>Location</th>\n",
       "      <th>Day</th>\n",
       "      <th>Night</th>\n",
       "    </tr>\n",
       "  </thead>\n",
       "  <tbody>\n",
       "    <tr>\n",
       "      <th>650</th>\n",
       "      <td>I192044239</td>\n",
       "      <td>413</td>\n",
       "      <td>Aggravated Assault</td>\n",
       "      <td>ASSAULT - AGGRAVATED - BATTERY</td>\n",
       "      <td>E18</td>\n",
       "      <td>482</td>\n",
       "      <td>Y</td>\n",
       "      <td>2019-06-11 13:00:00</td>\n",
       "      <td>2019</td>\n",
       "      <td>6</td>\n",
       "      <td>Tuesday</td>\n",
       "      <td>13</td>\n",
       "      <td>Part One</td>\n",
       "      <td>BURMAH ST</td>\n",
       "      <td>42.264212</td>\n",
       "      <td>-71.097836</td>\n",
       "      <td>(42.26421188, -71.09783579)</td>\n",
       "      <td>1</td>\n",
       "      <td>0</td>\n",
       "    </tr>\n",
       "    <tr>\n",
       "      <th>1277</th>\n",
       "      <td>I192043502</td>\n",
       "      <td>413</td>\n",
       "      <td>Aggravated Assault</td>\n",
       "      <td>ASSAULT - AGGRAVATED - BATTERY</td>\n",
       "      <td>B2</td>\n",
       "      <td>180</td>\n",
       "      <td>Y</td>\n",
       "      <td>2019-06-09 03:18:00</td>\n",
       "      <td>2019</td>\n",
       "      <td>6</td>\n",
       "      <td>Sunday</td>\n",
       "      <td>3</td>\n",
       "      <td>Part One</td>\n",
       "      <td>MAGAZINE ST</td>\n",
       "      <td>42.326817</td>\n",
       "      <td>-71.071110</td>\n",
       "      <td>(42.32681744, -71.07111038)</td>\n",
       "      <td>0</td>\n",
       "      <td>1</td>\n",
       "    </tr>\n",
       "    <tr>\n",
       "      <th>1278</th>\n",
       "      <td>I192043502</td>\n",
       "      <td>413</td>\n",
       "      <td>Aggravated Assault</td>\n",
       "      <td>ASSAULT - AGGRAVATED - BATTERY</td>\n",
       "      <td>B2</td>\n",
       "      <td>180</td>\n",
       "      <td>Y</td>\n",
       "      <td>2019-06-09 03:18:00</td>\n",
       "      <td>2019</td>\n",
       "      <td>6</td>\n",
       "      <td>Sunday</td>\n",
       "      <td>3</td>\n",
       "      <td>Part One</td>\n",
       "      <td>MAGAZINE ST</td>\n",
       "      <td>42.326817</td>\n",
       "      <td>-71.071110</td>\n",
       "      <td>(42.32681744, -71.07111038)</td>\n",
       "      <td>0</td>\n",
       "      <td>1</td>\n",
       "    </tr>\n",
       "    <tr>\n",
       "      <th>1954</th>\n",
       "      <td>I192042739</td>\n",
       "      <td>413</td>\n",
       "      <td>Aggravated Assault</td>\n",
       "      <td>ASSAULT - AGGRAVATED - BATTERY</td>\n",
       "      <td>B3</td>\n",
       "      <td>448</td>\n",
       "      <td>Y</td>\n",
       "      <td>2019-06-06 17:55:00</td>\n",
       "      <td>2019</td>\n",
       "      <td>6</td>\n",
       "      <td>Thursday</td>\n",
       "      <td>17</td>\n",
       "      <td>Part One</td>\n",
       "      <td>SPENCER ST</td>\n",
       "      <td>42.293843</td>\n",
       "      <td>-71.076094</td>\n",
       "      <td>(42.29384269, -71.07609427)</td>\n",
       "      <td>1</td>\n",
       "      <td>0</td>\n",
       "    </tr>\n",
       "    <tr>\n",
       "      <th>2677</th>\n",
       "      <td>I192041946</td>\n",
       "      <td>111</td>\n",
       "      <td>Homicide</td>\n",
       "      <td>MURDER, NON-NEGLIGIENT MANSLAUGHTER</td>\n",
       "      <td>D4</td>\n",
       "      <td></td>\n",
       "      <td>Y</td>\n",
       "      <td>2019-06-04 10:58:00</td>\n",
       "      <td>2019</td>\n",
       "      <td>6</td>\n",
       "      <td>Tuesday</td>\n",
       "      <td>10</td>\n",
       "      <td>Part One</td>\n",
       "      <td>HUNTINGTON AVE</td>\n",
       "      <td>NaN</td>\n",
       "      <td>NaN</td>\n",
       "      <td>(0.00000000, 0.00000000)</td>\n",
       "      <td>1</td>\n",
       "      <td>0</td>\n",
       "    </tr>\n",
       "  </tbody>\n",
       "</table>\n",
       "</div>"
      ],
      "text/plain": [
       "     INCIDENT_NUMBER  OFFENSE_CODE  OFFENSE_CODE_GROUP  \\\n",
       "650       I192044239           413  Aggravated Assault   \n",
       "1277      I192043502           413  Aggravated Assault   \n",
       "1278      I192043502           413  Aggravated Assault   \n",
       "1954      I192042739           413  Aggravated Assault   \n",
       "2677      I192041946           111            Homicide   \n",
       "\n",
       "                      OFFENSE_DESCRIPTION DISTRICT REPORTING_AREA SHOOTING  \\\n",
       "650        ASSAULT - AGGRAVATED - BATTERY      E18            482        Y   \n",
       "1277       ASSAULT - AGGRAVATED - BATTERY       B2            180        Y   \n",
       "1278       ASSAULT - AGGRAVATED - BATTERY       B2            180        Y   \n",
       "1954       ASSAULT - AGGRAVATED - BATTERY       B3            448        Y   \n",
       "2677  MURDER, NON-NEGLIGIENT MANSLAUGHTER       D4                       Y   \n",
       "\n",
       "        OCCURRED_ON_DATE  YEAR  MONTH DAY_OF_WEEK  HOUR  UCR_PART  \\\n",
       "650  2019-06-11 13:00:00  2019      6     Tuesday    13  Part One   \n",
       "1277 2019-06-09 03:18:00  2019      6      Sunday     3  Part One   \n",
       "1278 2019-06-09 03:18:00  2019      6      Sunday     3  Part One   \n",
       "1954 2019-06-06 17:55:00  2019      6    Thursday    17  Part One   \n",
       "2677 2019-06-04 10:58:00  2019      6     Tuesday    10  Part One   \n",
       "\n",
       "              STREET        Lat       Long                     Location  Day  \\\n",
       "650        BURMAH ST  42.264212 -71.097836  (42.26421188, -71.09783579)    1   \n",
       "1277     MAGAZINE ST  42.326817 -71.071110  (42.32681744, -71.07111038)    0   \n",
       "1278     MAGAZINE ST  42.326817 -71.071110  (42.32681744, -71.07111038)    0   \n",
       "1954      SPENCER ST  42.293843 -71.076094  (42.29384269, -71.07609427)    1   \n",
       "2677  HUNTINGTON AVE        NaN        NaN     (0.00000000, 0.00000000)    1   \n",
       "\n",
       "      Night  \n",
       "650       0  \n",
       "1277      1  \n",
       "1278      1  \n",
       "1954      0  \n",
       "2677      0  "
      ]
     },
     "execution_count": 48,
     "metadata": {},
     "output_type": "execute_result"
    }
   ],
   "source": [
    "#Shooting dataset in a new variable\n",
    "df_shooting = df_clean[df_clean['SHOOTING'] == 'Y']\n",
    "df_shooting.head(5)\n"
   ]
  },
  {
   "cell_type": "code",
   "execution_count": 49,
   "metadata": {},
   "outputs": [
    {
     "data": {
      "text/plain": [
       "<matplotlib.axes._subplots.AxesSubplot at 0x1e0cf06eb00>"
      ]
     },
     "execution_count": 49,
     "metadata": {},
     "output_type": "execute_result"
    },
    {
     "data": {
      "image/png": "[encoded data removed]",
      "text/plain": [
       "<Figure size 432x288 with 1 Axes>"
      ]
     },
     "metadata": {
      "needs_background": "light"
     },
     "output_type": "display_data"
    }
   ],
   "source": [
    "sns.countplot( x=\"SHOOTING\", hue=\"DISTRICT\", data = df_shooting)"
   ]
  },
  {
   "cell_type": "markdown",
   "metadata": {},
   "source": [
    "## Prediction Modelling "
   ]
  },
  {
   "cell_type": "markdown",
   "metadata": {},
   "source": [
    "## Principal component analysis\n",
    "\n",
    "finding most relative features\n",
    "\n",
    "using PCA model to analysis"
   ]
  },
  {
   "cell_type": "markdown",
   "metadata": {},
   "source": [
    "As seen from the Total Crime in Each District Bar plots, Distrit 'B2' also has the most Shooting cases registered  followed by B3 and C11"
   ]
  },
  {
   "cell_type": "code",
   "execution_count": 50,
   "metadata": {},
   "outputs": [],
   "source": [
    "#from sklearn.preprocessing import LabelEncoder\n",
    "pca =df_clean.iloc[:,:]\n"
   ]
  },
  {
   "cell_type": "code",
   "execution_count": 51,
   "metadata": {},
   "outputs": [
    {
     "name": "stderr",
     "output_type": "stream",
     "text": [
      "C:\\Users\\Jigar\\Anaconda3\\lib\\site-packages\\pandas\\core\\indexing.py:543: SettingWithCopyWarning: \n",
      "A value is trying to be set on a copy of a slice from a DataFrame.\n",
      "Try using .loc[row_indexer,col_indexer] = value instead\n",
      "\n",
      "See the caveats in the documentation: http://pandas.pydata.org/pandas-docs/stable/indexing.html#indexing-view-versus-copy\n",
      "  self.obj[item] = s\n"
     ]
    }
   ],
   "source": [
    "pca.loc[:,'OFFENSE_CODE_GROUP']=LabelEncoder().fit_transform(pca.loc[:,'OFFENSE_CODE_GROUP'])\n",
    "pca.loc[:,'OFFENSE_DESCRIPTION']=LabelEncoder().fit_transform(pca.loc[:,'OFFENSE_DESCRIPTION'])\n",
    "pca.loc[:,'DISTRICT']=LabelEncoder().fit_transform(pca.loc[:,'DISTRICT'].astype('str'))\n",
    "pca.loc[:,'SHOOTING']=LabelEncoder().fit_transform(pca.loc[:,'SHOOTING'].astype('str'))\n",
    "pca.loc[:,'DAY_OF_WEEK']=LabelEncoder().fit_transform(pca.loc[:,'DAY_OF_WEEK'])\n",
    "pca.loc[:,'UCR_PART']=LabelEncoder().fit_transform(pca.loc[:,'UCR_PART'].astype('str'))\n",
    "pca.loc[:,'STREET']=LabelEncoder().fit_transform(pca.loc[:,'STREET'].astype('str'))"
   ]
  },
  {
   "cell_type": "code",
   "execution_count": 52,
   "metadata": {},
   "outputs": [],
   "source": [
    "pca.loc[:,'REPORTING_AREA']=LabelEncoder().fit_transform(pca.loc[:,'REPORTING_AREA'])"
   ]
  },
  {
   "cell_type": "code",
   "execution_count": 53,
   "metadata": {},
   "outputs": [],
   "source": [
    "adata =pca.loc[:,['OFFENSE_CODE', 'OFFENSE_CODE_GROUP','OFFENSE_DESCRIPTION', \\\n",
    "                 'DISTRICT', 'REPORTING_AREA', 'SHOOTING', 'YEAR','DAY_OF_WEEK', 'HOUR', 'UCR_PART', 'STREET']]\n",
    "target=pca.loc[:,'MONTH']"
   ]
  },
  {
   "cell_type": "code",
   "execution_count": 54,
   "metadata": {},
   "outputs": [],
   "source": [
    "#from sklearn.decomposition import PCA\n",
    "pcamodel=PCA(n_components=11).fit(adata)"
   ]
  },
  {
   "cell_type": "code",
   "execution_count": 55,
   "metadata": {},
   "outputs": [
    {
     "name": "stdout",
     "output_type": "stream",
     "text": [
      "[6.82481054e-01 2.88434913e-01 2.78116215e-02 1.18561793e-03\n",
      " 6.34779565e-05 1.69105873e-05 3.97015218e-06 1.75623752e-06\n",
      " 6.34675475e-07 4.12057779e-08 2.71036654e-09]\n"
     ]
    },
    {
     "data": {
      "text/plain": [
       "'\\ntop2\\nOFFENSE_CODE\\nOFFENSE_CODE_GROUP\\n'"
      ]
     },
     "execution_count": 55,
     "metadata": {},
     "output_type": "execute_result"
    }
   ],
   "source": [
    "print(pcamodel.explained_variance_ratio_)\n",
    "'''\n",
    "top2\n",
    "OFFENSE_CODE\n",
    "OFFENSE_CODE_GROUP\n",
    "'''"
   ]
  },
  {
   "cell_type": "markdown",
   "metadata": {},
   "source": [
    "## PCA\n",
    "\n",
    "With using PCA model,OFFENSE_CODE and OFFENSE_CODE_GROUP are main components\n",
    "\n",
    "Using pearson coeffient to analysis correlation to choose features to predict"
   ]
  },
  {
   "cell_type": "markdown",
   "metadata": {},
   "source": [
    "## Correlation Analysis Pearson Coefficient"
   ]
  },
  {
   "cell_type": "code",
   "execution_count": 56,
   "metadata": {},
   "outputs": [
    {
     "data": {
      "text/html": [
       "<div>\n",
       "<style scoped>\n",
       "    .dataframe tbody tr th:only-of-type {\n",
       "        vertical-align: middle;\n",
       "    }\n",
       "\n",
       "    .dataframe tbody tr th {\n",
       "        vertical-align: top;\n",
       "    }\n",
       "\n",
       "    .dataframe thead th {\n",
       "        text-align: right;\n",
       "    }\n",
       "</style>\n",
       "<table border=\"1\" class=\"dataframe\">\n",
       "  <thead>\n",
       "    <tr style=\"text-align: right;\">\n",
       "      <th></th>\n",
       "      <th>OFFENSE_CODE</th>\n",
       "      <th>OFFENSE_CODE_GROUP</th>\n",
       "      <th>OFFENSE_DESCRIPTION</th>\n",
       "      <th>DISTRICT</th>\n",
       "      <th>REPORTING_AREA</th>\n",
       "      <th>SHOOTING</th>\n",
       "      <th>YEAR</th>\n",
       "      <th>DAY_OF_WEEK</th>\n",
       "      <th>HOUR</th>\n",
       "      <th>UCR_PART</th>\n",
       "      <th>STREET</th>\n",
       "      <th>MONTH</th>\n",
       "    </tr>\n",
       "  </thead>\n",
       "  <tbody>\n",
       "    <tr>\n",
       "      <th>MONTH</th>\n",
       "      <td>-0.030732</td>\n",
       "      <td>-0.000503</td>\n",
       "      <td>-0.001144</td>\n",
       "      <td>-0.002522</td>\n",
       "      <td>0.002790</td>\n",
       "      <td>0.011948</td>\n",
       "      <td>-0.344443</td>\n",
       "      <td>0.001911</td>\n",
       "      <td>0.000288</td>\n",
       "      <td>-0.033003</td>\n",
       "      <td>-0.006989</td>\n",
       "      <td>1.000000</td>\n",
       "    </tr>\n",
       "    <tr>\n",
       "      <th>SHOOTING</th>\n",
       "      <td>-0.060587</td>\n",
       "      <td>-0.108009</td>\n",
       "      <td>-0.060883</td>\n",
       "      <td>-0.010602</td>\n",
       "      <td>0.006201</td>\n",
       "      <td>1.000000</td>\n",
       "      <td>-0.000967</td>\n",
       "      <td>-0.005444</td>\n",
       "      <td>0.001726</td>\n",
       "      <td>-0.058558</td>\n",
       "      <td>0.003589</td>\n",
       "      <td>0.011948</td>\n",
       "    </tr>\n",
       "    <tr>\n",
       "      <th>REPORTING_AREA</th>\n",
       "      <td>-0.018657</td>\n",
       "      <td>0.030225</td>\n",
       "      <td>-0.007980</td>\n",
       "      <td>0.197905</td>\n",
       "      <td>1.000000</td>\n",
       "      <td>0.006201</td>\n",
       "      <td>-0.013628</td>\n",
       "      <td>-0.006693</td>\n",
       "      <td>0.008236</td>\n",
       "      <td>0.003040</td>\n",
       "      <td>-0.079513</td>\n",
       "      <td>0.002790</td>\n",
       "    </tr>\n",
       "    <tr>\n",
       "      <th>DAY_OF_WEEK</th>\n",
       "      <td>0.012185</td>\n",
       "      <td>-0.005965</td>\n",
       "      <td>0.003865</td>\n",
       "      <td>0.003410</td>\n",
       "      <td>-0.006693</td>\n",
       "      <td>-0.005444</td>\n",
       "      <td>0.000882</td>\n",
       "      <td>1.000000</td>\n",
       "      <td>0.009251</td>\n",
       "      <td>0.006705</td>\n",
       "      <td>0.002065</td>\n",
       "      <td>0.001911</td>\n",
       "    </tr>\n",
       "    <tr>\n",
       "      <th>HOUR</th>\n",
       "      <td>-0.004557</td>\n",
       "      <td>-0.011700</td>\n",
       "      <td>0.004256</td>\n",
       "      <td>0.017664</td>\n",
       "      <td>0.008236</td>\n",
       "      <td>0.001726</td>\n",
       "      <td>0.001338</td>\n",
       "      <td>0.009251</td>\n",
       "      <td>1.000000</td>\n",
       "      <td>-0.011728</td>\n",
       "      <td>-0.002991</td>\n",
       "      <td>0.000288</td>\n",
       "    </tr>\n",
       "    <tr>\n",
       "      <th>OFFENSE_CODE_GROUP</th>\n",
       "      <td>0.136339</td>\n",
       "      <td>1.000000</td>\n",
       "      <td>0.437449</td>\n",
       "      <td>0.005086</td>\n",
       "      <td>0.030225</td>\n",
       "      <td>-0.108009</td>\n",
       "      <td>-0.001392</td>\n",
       "      <td>-0.005965</td>\n",
       "      <td>-0.011700</td>\n",
       "      <td>0.287836</td>\n",
       "      <td>-0.004930</td>\n",
       "      <td>-0.000503</td>\n",
       "    </tr>\n",
       "    <tr>\n",
       "      <th>OFFENSE_DESCRIPTION</th>\n",
       "      <td>0.390885</td>\n",
       "      <td>0.437449</td>\n",
       "      <td>1.000000</td>\n",
       "      <td>0.016128</td>\n",
       "      <td>-0.007980</td>\n",
       "      <td>-0.060883</td>\n",
       "      <td>-0.008174</td>\n",
       "      <td>0.003865</td>\n",
       "      <td>0.004256</td>\n",
       "      <td>0.115641</td>\n",
       "      <td>-0.011538</td>\n",
       "      <td>-0.001144</td>\n",
       "    </tr>\n",
       "    <tr>\n",
       "      <th>DISTRICT</th>\n",
       "      <td>-0.013405</td>\n",
       "      <td>0.005086</td>\n",
       "      <td>0.016128</td>\n",
       "      <td>1.000000</td>\n",
       "      <td>0.197905</td>\n",
       "      <td>-0.010602</td>\n",
       "      <td>-0.004370</td>\n",
       "      <td>0.003410</td>\n",
       "      <td>0.017664</td>\n",
       "      <td>-0.023079</td>\n",
       "      <td>-0.037421</td>\n",
       "      <td>-0.002522</td>\n",
       "    </tr>\n",
       "    <tr>\n",
       "      <th>STREET</th>\n",
       "      <td>0.011334</td>\n",
       "      <td>-0.004930</td>\n",
       "      <td>-0.011538</td>\n",
       "      <td>-0.037421</td>\n",
       "      <td>-0.079513</td>\n",
       "      <td>0.003589</td>\n",
       "      <td>-0.006365</td>\n",
       "      <td>0.002065</td>\n",
       "      <td>-0.002991</td>\n",
       "      <td>0.017931</td>\n",
       "      <td>1.000000</td>\n",
       "      <td>-0.006989</td>\n",
       "    </tr>\n",
       "    <tr>\n",
       "      <th>OFFENSE_CODE</th>\n",
       "      <td>1.000000</td>\n",
       "      <td>0.136339</td>\n",
       "      <td>0.390885</td>\n",
       "      <td>-0.013405</td>\n",
       "      <td>-0.018657</td>\n",
       "      <td>-0.060587</td>\n",
       "      <td>0.016375</td>\n",
       "      <td>0.012185</td>\n",
       "      <td>-0.004557</td>\n",
       "      <td>0.707782</td>\n",
       "      <td>0.011334</td>\n",
       "      <td>-0.030732</td>\n",
       "    </tr>\n",
       "    <tr>\n",
       "      <th>UCR_PART</th>\n",
       "      <td>0.707782</td>\n",
       "      <td>0.287836</td>\n",
       "      <td>0.115641</td>\n",
       "      <td>-0.023079</td>\n",
       "      <td>0.003040</td>\n",
       "      <td>-0.058558</td>\n",
       "      <td>0.026079</td>\n",
       "      <td>0.006705</td>\n",
       "      <td>-0.011728</td>\n",
       "      <td>1.000000</td>\n",
       "      <td>0.017931</td>\n",
       "      <td>-0.033003</td>\n",
       "    </tr>\n",
       "    <tr>\n",
       "      <th>YEAR</th>\n",
       "      <td>0.016375</td>\n",
       "      <td>-0.001392</td>\n",
       "      <td>-0.008174</td>\n",
       "      <td>-0.004370</td>\n",
       "      <td>-0.013628</td>\n",
       "      <td>-0.000967</td>\n",
       "      <td>1.000000</td>\n",
       "      <td>0.000882</td>\n",
       "      <td>0.001338</td>\n",
       "      <td>0.026079</td>\n",
       "      <td>-0.006365</td>\n",
       "      <td>-0.344443</td>\n",
       "    </tr>\n",
       "  </tbody>\n",
       "</table>\n",
       "</div>"
      ],
      "text/plain": [
       "                     OFFENSE_CODE  OFFENSE_CODE_GROUP  OFFENSE_DESCRIPTION  \\\n",
       "MONTH                   -0.030732           -0.000503            -0.001144   \n",
       "SHOOTING                -0.060587           -0.108009            -0.060883   \n",
       "REPORTING_AREA          -0.018657            0.030225            -0.007980   \n",
       "DAY_OF_WEEK              0.012185           -0.005965             0.003865   \n",
       "HOUR                    -0.004557           -0.011700             0.004256   \n",
       "OFFENSE_CODE_GROUP       0.136339            1.000000             0.437449   \n",
       "OFFENSE_DESCRIPTION      0.390885            0.437449             1.000000   \n",
       "DISTRICT                -0.013405            0.005086             0.016128   \n",
       "STREET                   0.011334           -0.004930            -0.011538   \n",
       "OFFENSE_CODE             1.000000            0.136339             0.390885   \n",
       "UCR_PART                 0.707782            0.287836             0.115641   \n",
       "YEAR                     0.016375           -0.001392            -0.008174   \n",
       "\n",
       "                     DISTRICT  REPORTING_AREA  SHOOTING      YEAR  \\\n",
       "MONTH               -0.002522        0.002790  0.011948 -0.344443   \n",
       "SHOOTING            -0.010602        0.006201  1.000000 -0.000967   \n",
       "REPORTING_AREA       0.197905        1.000000  0.006201 -0.013628   \n",
       "DAY_OF_WEEK          0.003410       -0.006693 -0.005444  0.000882   \n",
       "HOUR                 0.017664        0.008236  0.001726  0.001338   \n",
       "OFFENSE_CODE_GROUP   0.005086        0.030225 -0.108009 -0.001392   \n",
       "OFFENSE_DESCRIPTION  0.016128       -0.007980 -0.060883 -0.008174   \n",
       "DISTRICT             1.000000        0.197905 -0.010602 -0.004370   \n",
       "STREET              -0.037421       -0.079513  0.003589 -0.006365   \n",
       "OFFENSE_CODE        -0.013405       -0.018657 -0.060587  0.016375   \n",
       "UCR_PART            -0.023079        0.003040 -0.058558  0.026079   \n",
       "YEAR                -0.004370       -0.013628 -0.000967  1.000000   \n",
       "\n",
       "                     DAY_OF_WEEK      HOUR  UCR_PART    STREET     MONTH  \n",
       "MONTH                   0.001911  0.000288 -0.033003 -0.006989  1.000000  \n",
       "SHOOTING               -0.005444  0.001726 -0.058558  0.003589  0.011948  \n",
       "REPORTING_AREA         -0.006693  0.008236  0.003040 -0.079513  0.002790  \n",
       "DAY_OF_WEEK             1.000000  0.009251  0.006705  0.002065  0.001911  \n",
       "HOUR                    0.009251  1.000000 -0.011728 -0.002991  0.000288  \n",
       "OFFENSE_CODE_GROUP     -0.005965 -0.011700  0.287836 -0.004930 -0.000503  \n",
       "OFFENSE_DESCRIPTION     0.003865  0.004256  0.115641 -0.011538 -0.001144  \n",
       "DISTRICT                0.003410  0.017664 -0.023079 -0.037421 -0.002522  \n",
       "STREET                  0.002065 -0.002991  0.017931  1.000000 -0.006989  \n",
       "OFFENSE_CODE            0.012185 -0.004557  0.707782  0.011334 -0.030732  \n",
       "UCR_PART                0.006705 -0.011728  1.000000  0.017931 -0.033003  \n",
       "YEAR                    0.000882  0.001338  0.026079 -0.006365 -0.344443  "
      ]
     },
     "execution_count": 56,
     "metadata": {},
     "output_type": "execute_result"
    }
   ],
   "source": [
    "pdata=pca.loc[:,['OFFENSE_CODE', 'OFFENSE_CODE_GROUP','OFFENSE_DESCRIPTION', \\\n",
    "                 'DISTRICT', 'REPORTING_AREA', 'SHOOTING', 'YEAR','DAY_OF_WEEK', 'HOUR', 'UCR_PART', 'STREET','MONTH']]\n",
    "pearsonMatrix=pd.DataFrame(round(pdata.corr(method='pearson'),6))\n",
    "pearsonMatrix.sort_values(by='MONTH',ascending=False)"
   ]
  },
  {
   "cell_type": "markdown",
   "metadata": {},
   "source": [
    "## Pearson Coefficient Matrix\n",
    "\n",
    "With using pearson coefficient matrix,\n",
    "\n",
    "SHOOTING,DAY_OF_WEEK, REPORTING_AREA and HOUR are more relative to predict Month\n",
    "\n"
   ]
  },
  {
   "cell_type": "markdown",
   "metadata": {},
   "source": [
    "## Predict Crime Month -using GBC\n",
    "\n",
    "using GradientBoostingClassifier"
   ]
  },
  {
   "cell_type": "code",
   "execution_count": 57,
   "metadata": {},
   "outputs": [],
   "source": [
    "sample=pca.sample(n=10000)"
   ]
  },
  {
   "cell_type": "code",
   "execution_count": 58,
   "metadata": {},
   "outputs": [],
   "source": [
    "features=sample.loc[:,['SHOOTING','DAY_OF_WEEK','HOUR']]\n",
    "target=sample.loc[:,'MONTH']"
   ]
  },
  {
   "cell_type": "code",
   "execution_count": 59,
   "metadata": {},
   "outputs": [],
   "source": [
    "dataTrain,dataTest, \\\n",
    "targetTrain,targetTest= \\\n",
    "train_test_split(features,target,train_size=0.8)"
   ]
  },
  {
   "cell_type": "code",
   "execution_count": 60,
   "metadata": {},
   "outputs": [],
   "source": [
    "#from sklearn.ensemble import GradientBoostingClassifier as GBC"
   ]
  },
  {
   "cell_type": "code",
   "execution_count": 61,
   "metadata": {},
   "outputs": [],
   "source": [
    "crimeGBC=GBC(max_depth=12)"
   ]
  },
  {
   "cell_type": "code",
   "execution_count": 62,
   "metadata": {},
   "outputs": [
    {
     "data": {
      "text/plain": [
       "GradientBoostingClassifier(criterion='friedman_mse', init=None,\n",
       "                           learning_rate=0.1, loss='deviance', max_depth=12,\n",
       "                           max_features=None, max_leaf_nodes=None,\n",
       "                           min_impurity_decrease=0.0, min_impurity_split=None,\n",
       "                           min_samples_leaf=1, min_samples_split=2,\n",
       "                           min_weight_fraction_leaf=0.0, n_estimators=100,\n",
       "                           n_iter_no_change=None, presort='auto',\n",
       "                           random_state=None, subsample=1.0, tol=0.0001,\n",
       "                           validation_fraction=0.1, verbose=0,\n",
       "                           warm_start=False)"
      ]
     },
     "execution_count": 62,
     "metadata": {},
     "output_type": "execute_result"
    }
   ],
   "source": [
    "crimeGBC.fit(dataTrain,targetTrain)"
   ]
  },
  {
   "cell_type": "code",
   "execution_count": 63,
   "metadata": {},
   "outputs": [],
   "source": [
    "pred=crimeGBC.predict(dataTrain)"
   ]
  },
  {
   "cell_type": "code",
   "execution_count": 64,
   "metadata": {},
   "outputs": [
    {
     "name": "stdout",
     "output_type": "stream",
     "text": [
      "              precision    recall  f1-score   support\n",
      "\n",
      "           1       0.17      0.15      0.16       661\n",
      "           2       0.18      0.02      0.04       539\n",
      "           3       0.16      0.19      0.18       688\n",
      "           4       0.17      0.07      0.10       589\n",
      "           5       0.15      0.17      0.16       682\n",
      "           6       0.16      0.27      0.20       705\n",
      "           7       0.17      0.16      0.17       716\n",
      "           8       0.16      0.23      0.19       712\n",
      "           9       0.15      0.17      0.16       682\n",
      "          10       0.17      0.26      0.21       723\n",
      "          11       0.17      0.14      0.15       657\n",
      "          12       0.19      0.08      0.11       646\n",
      "\n",
      "    accuracy                           0.16      8000\n",
      "   macro avg       0.17      0.16      0.15      8000\n",
      "weighted avg       0.17      0.16      0.15      8000\n",
      "\n"
     ]
    }
   ],
   "source": [
    "print(classification_report(targetTrain,pred))"
   ]
  },
  {
   "cell_type": "code",
   "execution_count": 65,
   "metadata": {},
   "outputs": [],
   "source": [
    "predict=crimeGBC.predict(dataTest)"
   ]
  },
  {
   "cell_type": "code",
   "execution_count": 66,
   "metadata": {},
   "outputs": [
    {
     "name": "stdout",
     "output_type": "stream",
     "text": [
      "              precision    recall  f1-score   support\n",
      "\n",
      "           1       0.07      0.07      0.07       149\n",
      "           2       0.13      0.02      0.04       148\n",
      "           3       0.10      0.11      0.10       179\n",
      "           4       0.02      0.01      0.01       151\n",
      "           5       0.10      0.12      0.11       164\n",
      "           6       0.11      0.18      0.13       174\n",
      "           7       0.10      0.09      0.09       186\n",
      "           8       0.06      0.09      0.08       182\n",
      "           9       0.09      0.08      0.08       198\n",
      "          10       0.09      0.16      0.11       170\n",
      "          11       0.04      0.03      0.04       150\n",
      "          12       0.12      0.05      0.08       149\n",
      "\n",
      "    accuracy                           0.09      2000\n",
      "   macro avg       0.09      0.08      0.08      2000\n",
      "weighted avg       0.09      0.09      0.08      2000\n",
      "\n"
     ]
    }
   ],
   "source": [
    "print(classification_report(targetTest,predict))"
   ]
  },
  {
   "cell_type": "code",
   "execution_count": 67,
   "metadata": {},
   "outputs": [
    {
     "name": "stdout",
     "output_type": "stream",
     "text": [
      "0.0865\n"
     ]
    }
   ],
   "source": [
    "print(accuracy_score(targetTest,predict))"
   ]
  },
  {
   "cell_type": "markdown",
   "metadata": {},
   "source": [
    "Using just the GBC we were able to predict the months of crimes accurately "
   ]
  },
  {
   "cell_type": "markdown",
   "metadata": {},
   "source": [
    "### Conclusion"
   ]
  },
  {
   "cell_type": "markdown",
   "metadata": {},
   "source": [
    "* Fridays in Boston are unusually filled with crimes while the opposite is true for Sundays and to a less extant Saturdays.\n",
    "* August is the month when most of the crimes occur\n",
    "* UCR_PART 1 and 2 have are unusually full of crimes.\n",
    "* From 2016 to 2018 crime slightly declined.\n",
    "* There is more crime during summer months and less crime during winter ones. It's possible that crime is fairly weather-dependent.\n",
    "* Police districts B2, D4, C11 and A1 have the most crimes. On the other hand A15, A7, E18 and E13 have the least amount of crimes.\n",
    "* The number of Crime increases in the Summer season and decreases in the Winter.\n",
    "* The trend of crimes has been constant in each District from 2015 to 2018"
   ]
  },
  {
   "cell_type": "code",
   "execution_count": null,
   "metadata": {},
   "outputs": [],
   "source": []
  },
  {
   "cell_type": "code",
   "execution_count": null,
   "metadata": {},
   "outputs": [],
   "source": []
  }
 ],
 "metadata": {
  "kernelspec": {
   "display_name": "Python 3",
   "language": "python",
   "name": "python3"
  },
  "language_info": {
   "codemirror_mode": {
    "name": "ipython",
    "version": 3
   },
   "file_extension": ".py",
   "mimetype": "text/x-python",
   "name": "python",
   "nbconvert_exporter": "python",
   "pygments_lexer": "ipython3",
   "version": "3.6.8"
  }
 },
 "nbformat": 4,
 "nbformat_minor": 2
}
